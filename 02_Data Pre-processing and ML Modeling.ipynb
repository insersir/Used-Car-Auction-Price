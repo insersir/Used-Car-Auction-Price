{
 "cells": [
  {
   "cell_type": "markdown",
   "metadata": {
    "id": "TRN4pngk_Nt-"
   },
   "source": [
    "***STAGE 2: DATA PRE-PROCESSING***"
   ]
  },
  {
   "cell_type": "markdown",
   "metadata": {
    "id": "oSC5GlZMaKd1"
   },
   "source": [
    "# **1. Import Libraries**"
   ]
  },
  {
   "cell_type": "code",
   "execution_count": 1,
   "metadata": {
    "ExecuteTime": {
     "end_time": "2022-06-02T20:27:25.696061Z",
     "start_time": "2022-06-02T20:27:14.352942Z"
    },
    "id": "YQCsRtF8aPhd"
   },
   "outputs": [],
   "source": [
    "import pandas as pd\n",
    "import numpy as np\n",
    "import matplotlib.pyplot as plt\n",
    "import seaborn as sns\n",
    "import re\n",
    "from scipy import stats"
   ]
  },
  {
   "cell_type": "markdown",
   "metadata": {
    "id": "TCgZPcXcaegs"
   },
   "source": [
    "# **2. Load Data** <br>\n",
    "Data yang digunakan yaitu [Used Car Auction Prices](https://www.kaggle.com/datasets/tunguz/used-car-auction-prices) dari kaggle.com.\n"
   ]
  },
  {
   "cell_type": "code",
   "execution_count": 2,
   "metadata": {
    "ExecuteTime": {
     "end_time": "2022-06-02T20:27:29.057588Z",
     "start_time": "2022-06-02T20:27:25.698059Z"
    },
    "id": "_f5jdNCeMkY7"
   },
   "outputs": [
    {
     "name": "stdout",
     "output_type": "stream",
     "text": [
      "<class 'pandas.core.frame.DataFrame'>\n",
      "RangeIndex: 558811 entries, 0 to 558810\n",
      "Data columns (total 16 columns):\n",
      " #   Column        Non-Null Count   Dtype  \n",
      "---  ------        --------------   -----  \n",
      " 0   year          558811 non-null  int64  \n",
      " 1   make          548510 non-null  object \n",
      " 2   model         548412 non-null  object \n",
      " 3   trim          548160 non-null  object \n",
      " 4   body          545616 non-null  object \n",
      " 5   transmission  493458 non-null  object \n",
      " 6   vin           558811 non-null  object \n",
      " 7   state         558811 non-null  object \n",
      " 8   condition     547017 non-null  float64\n",
      " 9   odometer      558717 non-null  float64\n",
      " 10  color         558062 non-null  object \n",
      " 11  interior      558062 non-null  object \n",
      " 12  seller        558811 non-null  object \n",
      " 13  mmr           558811 non-null  int64  \n",
      " 14  sellingprice  558811 non-null  int64  \n",
      " 15  saledate      558811 non-null  object \n",
      "dtypes: float64(2), int64(3), object(11)\n",
      "memory usage: 68.2+ MB\n"
     ]
    }
   ],
   "source": [
    "df = pd.read_csv('./car_prices.csv', on_bad_lines='skip')\n",
    "df.info()"
   ]
  },
  {
   "cell_type": "markdown",
   "metadata": {
    "id": "aZzo_9cLUDIc"
   },
   "source": [
    "# **3. Data Pre-processing** <br>"
   ]
  },
  {
   "cell_type": "markdown",
   "metadata": {
    "id": "XfOMta3U6RyG"
   },
   "source": [
    "## 3.1. Handling Duplicated Data"
   ]
  },
  {
   "cell_type": "code",
   "execution_count": 3,
   "metadata": {
    "ExecuteTime": {
     "end_time": "2022-06-02T20:27:30.148683Z",
     "start_time": "2022-06-02T20:27:29.059564Z"
    },
    "colab": {
     "base_uri": "https://localhost:8080/"
    },
    "id": "ZQtUu1Ma6VPe",
    "outputId": "89eab90b-d514-48a1-a46b-627a0e47b1ec"
   },
   "outputs": [
    {
     "data": {
      "text/plain": [
       "0"
      ]
     },
     "execution_count": 3,
     "metadata": {},
     "output_type": "execute_result"
    }
   ],
   "source": [
    "df.duplicated().sum()"
   ]
  },
  {
   "cell_type": "markdown",
   "metadata": {
    "id": "asKPHn2d6nU_"
   },
   "source": [
    "Tidak ada data duplikat."
   ]
  },
  {
   "cell_type": "markdown",
   "metadata": {
    "id": "4P2dM8gqgEEu"
   },
   "source": [
    "## 3.2. Handling Missing Values"
   ]
  },
  {
   "cell_type": "markdown",
   "metadata": {
    "id": "7ZbqgChAnjej"
   },
   "source": [
    "### 3.2.1 Drop Missing Values"
   ]
  },
  {
   "cell_type": "code",
   "execution_count": 4,
   "metadata": {
    "ExecuteTime": {
     "end_time": "2022-06-02T20:27:31.779960Z",
     "start_time": "2022-06-02T20:27:30.150644Z"
    },
    "id": "fSCusG3FKzmP"
   },
   "outputs": [],
   "source": [
    "mv = df.isnull().sum()\n",
    "tmv = df.isnull().count()\n",
    "\n",
    "pmv = mv*100/tmv\n",
    "\n",
    "mdf = pd.concat([mv, pmv], axis=1)\n",
    "mdf.columns = ['Missing Value Total', 'Missing Value Percentage (%)']\n",
    "mdf.reset_index(inplace=True)\n",
    "# mdf"
   ]
  },
  {
   "cell_type": "code",
   "execution_count": 5,
   "metadata": {
    "ExecuteTime": {
     "end_time": "2022-06-02T20:27:34.201292Z",
     "start_time": "2022-06-02T20:27:31.781738Z"
    },
    "id": "LjhXqL_aiHeq"
   },
   "outputs": [
    {
     "data": {
      "text/plain": [
       "year                0\n",
       "make                0\n",
       "model               0\n",
       "trim                0\n",
       "body                0\n",
       "transmission    61324\n",
       "vin                 0\n",
       "state               0\n",
       "condition           0\n",
       "odometer            0\n",
       "color               0\n",
       "interior            0\n",
       "seller              0\n",
       "mmr                 0\n",
       "sellingprice        0\n",
       "saledate            0\n",
       "dtype: int64"
      ]
     },
     "execution_count": 5,
     "metadata": {},
     "output_type": "execute_result"
    }
   ],
   "source": [
    "col_mv = mdf[mdf['Missing Value Percentage (%)'] < 2.5]['index'] # kolom dengan missing value < 2.5 akan kita drop barisnya\n",
    "\n",
    "\n",
    "# Setelah drop missing value dari kolom yang persentase missing value < 2.5 %\n",
    "cols = col_mv.values\n",
    "for i in cols:\n",
    "    df = df[~(df[i].isnull())]\n",
    "df.isna().sum()"
   ]
  },
  {
   "cell_type": "markdown",
   "metadata": {
    "id": "TawHx2NmnosI"
   },
   "source": [
    "### 3.2.2 Fill Missing Value in Transmission Column"
   ]
  },
  {
   "cell_type": "code",
   "execution_count": 6,
   "metadata": {
    "ExecuteTime": {
     "end_time": "2022-06-02T20:27:34.230229Z",
     "start_time": "2022-06-02T20:27:34.203259Z"
    },
    "colab": {
     "base_uri": "https://localhost:8080/"
    },
    "id": "sWRKdno042PN",
    "outputId": "fda5e397-cb28-43ed-c0bb-8ff88eb1c3a5"
   },
   "outputs": [
    {
     "data": {
      "text/plain": [
       "61324"
      ]
     },
     "execution_count": 6,
     "metadata": {},
     "output_type": "execute_result"
    }
   ],
   "source": [
    "# before filling missing value\n",
    "df['transmission'].isnull().sum()"
   ]
  },
  {
   "cell_type": "code",
   "execution_count": 7,
   "metadata": {
    "ExecuteTime": {
     "end_time": "2022-06-02T20:27:34.634601Z",
     "start_time": "2022-06-02T20:27:34.232183Z"
    },
    "colab": {
     "base_uri": "https://localhost:8080/"
    },
    "id": "QcfAb05Q4fvZ",
    "outputId": "fb1afe09-9e39-4d41-be20-6b496d5a418f"
   },
   "outputs": [
    {
     "data": {
      "text/plain": [
       "0"
      ]
     },
     "execution_count": 7,
     "metadata": {},
     "output_type": "execute_result"
    }
   ],
   "source": [
    "# after filling missing value\n",
    "df['transmission'] = df['transmission'].fillna(df['transmission'].mode()[0])\n",
    "df['transmission'].isnull().sum()"
   ]
  },
  {
   "cell_type": "markdown",
   "metadata": {
    "id": "JxFdU6Q-UJYR"
   },
   "source": [
    "## 3.3. Recategorization High Cardinality in Categorical Features"
   ]
  },
  {
   "cell_type": "code",
   "execution_count": 8,
   "metadata": {
    "ExecuteTime": {
     "end_time": "2022-06-02T20:27:34.680485Z",
     "start_time": "2022-06-02T20:27:34.637593Z"
    },
    "scrolled": true
   },
   "outputs": [],
   "source": [
    "def top_value(df, column, threshold=95):\n",
    "    grouped = df.groupby(column).agg({column:'count'})\n",
    "    grouped.columns = ['counts']\n",
    "    grouped = grouped.reset_index().sort_values('counts', ascending=False)\n",
    "    grouped['%'] = round(grouped['counts'] / grouped['counts'].sum() * 100, 2)\n",
    "\n",
    "    grouped['cumulative %'] = grouped['%'].cumsum()\n",
    "\n",
    "    result = grouped[grouped['cumulative %'] <= threshold]\n",
    "    return result[[column, 'cumulative %']].reset_index(drop=True)"
   ]
  },
  {
   "cell_type": "markdown",
   "metadata": {
    "id": "DTbwpT75Ur5L"
   },
   "source": [
    "### 3.3.1 Color"
   ]
  },
  {
   "cell_type": "code",
   "execution_count": 9,
   "metadata": {
    "ExecuteTime": {
     "end_time": "2022-06-02T20:27:34.888848Z",
     "start_time": "2022-06-02T20:27:34.685472Z"
    }
   },
   "outputs": [],
   "source": [
    "# top_value(df, 'color', 96)"
   ]
  },
  {
   "cell_type": "code",
   "execution_count": 10,
   "metadata": {
    "ExecuteTime": {
     "end_time": "2022-06-02T20:27:35.104272Z",
     "start_time": "2022-06-02T20:27:34.890840Z"
    }
   },
   "outputs": [],
   "source": [
    "# mengganti nilai - menjadi unknown pada kolom color\n",
    "df.color = df.color.replace('—', 'unknown')\n",
    "\n",
    "# # KDE color sebelum vs sellingprice\n",
    "# plt.figure(figsize=(16, 8))\n",
    "# sns.kdeplot(data=df, x='sellingprice', hue='color', common_norm=False);"
   ]
  },
  {
   "cell_type": "code",
   "execution_count": 11,
   "metadata": {
    "ExecuteTime": {
     "end_time": "2022-06-02T20:27:45.480753Z",
     "start_time": "2022-06-02T20:27:35.106267Z"
    }
   },
   "outputs": [],
   "source": [
    "def color_category(x):\n",
    "  if x['color'] == 'black':\n",
    "    val = 'black'\n",
    "  elif x['color'] == 'white':\n",
    "    val = 'white'\n",
    "  elif x['color'] == 'gray':\n",
    "    val = 'gray'\n",
    "  elif x['color'] == 'silver':\n",
    "    val = 'silver'\n",
    "  elif x['color'] == 'blue':\n",
    "    val = 'blue'\n",
    "  elif x['color'] == 'red':\n",
    "    val = 'red'\n",
    "  elif x['color'] == 'gold':\n",
    "    val = 'gold'\n",
    "  elif x['color'] == 'green':\n",
    "    val = 'green'\n",
    "  elif x['color'] == 'beige':\n",
    "    val = 'beige'\n",
    "  else:\n",
    "    val = 'others'\n",
    "  return val\n",
    "\n",
    "df['color'] = df.apply(lambda x: color_category(x), axis=1)"
   ]
  },
  {
   "cell_type": "code",
   "execution_count": 12,
   "metadata": {
    "ExecuteTime": {
     "end_time": "2022-06-02T20:27:45.486693Z",
     "start_time": "2022-06-02T20:27:45.482703Z"
    },
    "id": "omhzlQu9ayKF"
   },
   "outputs": [],
   "source": [
    "# # KDE color setelah vs sellingprice\n",
    "# plt.figure(figsize=(16, 8))\n",
    "# sns.kdeplot(data=df, x='sellingprice', hue='color', common_norm=False);"
   ]
  },
  {
   "cell_type": "markdown",
   "metadata": {
    "id": "UyhPlQZqjVcn"
   },
   "source": [
    "### 3.3.2 Interior"
   ]
  },
  {
   "cell_type": "code",
   "execution_count": 13,
   "metadata": {
    "ExecuteTime": {
     "end_time": "2022-06-02T20:27:45.592273Z",
     "start_time": "2022-06-02T20:27:45.488688Z"
    }
   },
   "outputs": [],
   "source": [
    "# top_value(df, 'interior', 96)\n",
    "\n",
    "# # KDE interior_new vs sellingprice\n",
    "# plt.figure(figsize=(16, 8))\n",
    "# sns.kdeplot(data=df, x='sellingprice', hue='interior', common_norm=False, palette=\"bright\");"
   ]
  },
  {
   "cell_type": "code",
   "execution_count": 14,
   "metadata": {
    "ExecuteTime": {
     "end_time": "2022-06-02T20:27:52.854993Z",
     "start_time": "2022-06-02T20:27:45.594258Z"
    },
    "id": "v1pTY-QVj1ma"
   },
   "outputs": [],
   "source": [
    "# Rekategori kolom interior: black, blue, brown, off-white, red, beige, blue, gray (lihat sub bagian 3.2.4)\n",
    "def interior_category(x):\n",
    "    if x['interior'] == 'black':\n",
    "        interior = 'black'\n",
    "    elif x['interior'] == 'beige':\n",
    "        interior = 'beige'\n",
    "    elif x['interior'] == 'gray':\n",
    "        interior = 'gray'\n",
    "    elif x['interior'] == 'tan':\n",
    "        interior = 'tan'\n",
    "    else:\n",
    "        interior= 'others'\n",
    "    return interior\n",
    "\n",
    "# membuat kolom baru yaitu kolom interior_new menggunakan fungsi interior_category\n",
    "df['interior'] = df.apply(lambda x: interior_category(x), axis=1)"
   ]
  },
  {
   "cell_type": "markdown",
   "metadata": {
    "id": "rTqu8dPbn-Wh"
   },
   "source": [
    "## 3.4. Handling Inconsistent Values & Recategorization High Cardinality"
   ]
  },
  {
   "cell_type": "markdown",
   "metadata": {
    "id": "mORvzUDXoJAJ"
   },
   "source": [
    "### 3.4.1 Make"
   ]
  },
  {
   "cell_type": "code",
   "execution_count": 15,
   "metadata": {
    "ExecuteTime": {
     "end_time": "2022-06-02T20:27:53.070742Z",
     "start_time": "2022-06-02T20:27:52.856962Z"
    }
   },
   "outputs": [
    {
     "data": {
      "text/plain": [
       "53"
      ]
     },
     "execution_count": 15,
     "metadata": {},
     "output_type": "execute_result"
    }
   ],
   "source": [
    "# memperbaiki nilai yang berbeda karakter huruf (kapital, lowercase) pada kolom make \n",
    "df['make'] = df['make'].str.lower()\n",
    "df['make'].nunique()\n",
    "\n",
    "# # KDE make sebelum vs sellingprice\n",
    "# plt.figure(figsize=(16, 8))\n",
    "# sns.kdeplot(data=df, x='sellingprice', hue='make', common_norm=False, palette=\"bright\");"
   ]
  },
  {
   "cell_type": "code",
   "execution_count": 16,
   "metadata": {
    "ExecuteTime": {
     "end_time": "2022-06-02T20:27:53.075689Z",
     "start_time": "2022-06-02T20:27:53.072725Z"
    }
   },
   "outputs": [],
   "source": [
    "# x = top_value(df, 'make', 95)\n",
    "# x"
   ]
  },
  {
   "cell_type": "code",
   "execution_count": 17,
   "metadata": {
    "ExecuteTime": {
     "end_time": "2022-06-02T20:28:10.912587Z",
     "start_time": "2022-06-02T20:27:53.077684Z"
    },
    "id": "pihCXYjaeguJ"
   },
   "outputs": [],
   "source": [
    "def make_category(x):\n",
    "  if x['make'] == 'ford':\n",
    "    val = 'ford'\n",
    "  elif x['make'] == 'chevrolet':\n",
    "    val = 'chevrolet'\n",
    "  elif x['make'] == 'nissan':\n",
    "    val = 'nissan'\n",
    "  elif x['make'] == 'toyota':\n",
    "    val = 'toyota'\n",
    "  elif x['make'] == 'dodge':\n",
    "    val = 'dodge'\n",
    "  elif x['make'] == 'honda':\n",
    "    val = 'honda'\n",
    "  elif x['make'] == 'hyundai':\n",
    "    val = 'hyundai'\n",
    "  elif x['make'] == 'bmw':\n",
    "    val = 'bmw'\n",
    "  elif x['make'] == 'kia':\n",
    "    val = 'kia'    \n",
    "  elif x['make'] == 'chrysler':\n",
    "    val = 'chrysler'\n",
    "  elif x['make'] == 'mercedes-benz':\n",
    "    val = 'mercedes-benz'\n",
    "  elif x['make'] == 'infiniti':\n",
    "    val = 'infiniti'\n",
    "  elif x['make'] == 'jeep':\n",
    "    val = 'jeep'\n",
    "  elif x['make'] == 'volkswagen':\n",
    "    val = 'volkswagen'\n",
    "  elif x['make'] == 'lexus':\n",
    "    val = 'lexus'\n",
    "  elif x['make'] == 'gmc':\n",
    "    val = 'gmc'\n",
    "  elif x['make'] == 'mazda':\n",
    "    val = 'mazda'\n",
    "  elif x['make'] == 'cadillac':\n",
    "    val = 'cadillac'\n",
    "  elif x['make'] == 'acura':\n",
    "    val = 'acura'\n",
    "  elif x['make'] == 'audi':\n",
    "    val = 'audi'\n",
    "  elif x['make'] == 'lincoln':\n",
    "    val = 'lincoln'\n",
    "  elif x['make'] == 'subaru':\n",
    "    val = 'subaru'\n",
    "  elif x['make'] == 'buick':\n",
    "    val = 'buick'\n",
    "  elif x['make'] == 'ram':\n",
    "    val = 'ram'\n",
    "  else:\n",
    "    val = 'others'\n",
    "  return val\n",
    "\n",
    "# Membuat kolom baru yaitu kolom make menggunakan fungsi make_category\n",
    "df['make'] = df.apply(lambda x: make_category(x), axis=1)"
   ]
  },
  {
   "cell_type": "code",
   "execution_count": 18,
   "metadata": {
    "ExecuteTime": {
     "end_time": "2022-06-02T20:28:10.919571Z",
     "start_time": "2022-06-02T20:28:10.915579Z"
    },
    "id": "fNgk4r2LgFrK"
   },
   "outputs": [],
   "source": [
    "# # KDE make setelah vs sellingprice\n",
    "# plt.figure(figsize=(16, 8))\n",
    "# sns.kdeplot(data=df, x='sellingprice', hue='make', common_norm=False, palette=\"bright\");"
   ]
  },
  {
   "cell_type": "markdown",
   "metadata": {
    "id": "QSMFKL2LQ8ZJ"
   },
   "source": [
    "### 3.4.2 Body"
   ]
  },
  {
   "cell_type": "code",
   "execution_count": 19,
   "metadata": {
    "ExecuteTime": {
     "end_time": "2022-06-02T20:28:11.267669Z",
     "start_time": "2022-06-02T20:28:10.921564Z"
    },
    "colab": {
     "base_uri": "https://localhost:8080/"
    },
    "id": "Emvpm7TARANy",
    "outputId": "aafaace2-d3e6-4bc6-af69-cba5b9259cf9"
   },
   "outputs": [
    {
     "name": "stdout",
     "output_type": "stream",
     "text": [
      "Jumlah unique value sebelum handling: 86\n",
      "Jumlah unique value setelah handling: 45\n"
     ]
    }
   ],
   "source": [
    "# Unique value pada kolom body (sebelum handling)\n",
    "print('Jumlah unique value sebelum handling:', df.body.nunique())\n",
    "\n",
    "# Memperbaiki nilai yang berbeda karakter huruf (kapital, lowercase) pada kolom body \n",
    "df['body'] = df['body'].str.lower()\n",
    "print('Jumlah unique value setelah handling:', df.body.nunique())\n",
    "\n",
    "# print('\\n', df['body'].unique())\n",
    "\n",
    "# # KDE body_new vs sellingprice\n",
    "# plt.figure(figsize=(16, 8))\n",
    "# sns.kdeplot(data=df, x='sellingprice', hue='body', common_norm=False, palette=\"bright\");"
   ]
  },
  {
   "cell_type": "code",
   "execution_count": 20,
   "metadata": {
    "ExecuteTime": {
     "end_time": "2022-06-02T20:28:11.273621Z",
     "start_time": "2022-06-02T20:28:11.269632Z"
    }
   },
   "outputs": [],
   "source": [
    "# top_value(df, 'body')"
   ]
  },
  {
   "cell_type": "code",
   "execution_count": 21,
   "metadata": {
    "ExecuteTime": {
     "end_time": "2022-06-02T20:28:20.816433Z",
     "start_time": "2022-06-02T20:28:11.275616Z"
    },
    "id": "IRwSKSRgas1-"
   },
   "outputs": [],
   "source": [
    "def body_category(x):\n",
    "    if x['body'] == 'sedan':\n",
    "        val = 'sedan'\n",
    "    elif x['body'] == 'suv':\n",
    "        val = 'suv'\n",
    "    elif x['body'] == 'hatchback':\n",
    "        val = 'hatchback'\n",
    "    elif x['body'] == 'minivan':\n",
    "        val = 'minivan'\n",
    "    elif x['body'] == 'coupe':\n",
    "        val = 'coupe'\n",
    "    elif x['body'] == 'crew cab':\n",
    "        val = 'crew cab'\n",
    "    elif x['body'] == 'wagon':\n",
    "        val = 'wagon'\n",
    "    elif x['body'] == 'convertible':\n",
    "        val = 'convertible'\n",
    "    elif x['body'] == 'supercrew':\n",
    "        val = 'supercrew'\n",
    "    elif x['body'] == 'g sedan':\n",
    "        val = 'g sedan'\n",
    "    else:\n",
    "        val = 'others'\n",
    "    return val\n",
    "\n",
    "# Membuat kolom baru yaitu kolom body_new menggunakan fungsi make_category\n",
    "df['body'] = df.apply(lambda x: body_category(x), axis=1)"
   ]
  },
  {
   "cell_type": "code",
   "execution_count": 22,
   "metadata": {
    "ExecuteTime": {
     "end_time": "2022-06-02T20:28:20.822420Z",
     "start_time": "2022-06-02T20:28:20.818428Z"
    }
   },
   "outputs": [],
   "source": [
    "# # KDE body setelah vs sellingprice\n",
    "# plt.figure(figsize=(16, 8))\n",
    "# sns.kdeplot(data=df, x='sellingprice', hue='body', common_norm=False, palette=\"bright\");"
   ]
  },
  {
   "cell_type": "markdown",
   "metadata": {
    "id": "S7JNT0kh6x_A"
   },
   "source": [
    "## 3.5. Feature Transformation <br>\n",
    "Log Transformation pada feature odometer. Kami melakukan transoformasi terlebih dulu sebelum melakukan handling outlier. Jika kita melakukan handling outlier terlebih dulu, maka kemungkinan data yang akan dibuang lebih banyak. Oleh karena itu, kami melakukan log transformation terlebih dulu dengan harapan data semakin terdistribusi dengan normal sehingga data yang terindikasi outlier lebih sedikit."
   ]
  },
  {
   "cell_type": "code",
   "execution_count": 23,
   "metadata": {
    "ExecuteTime": {
     "end_time": "2022-06-02T20:28:20.938549Z",
     "start_time": "2022-06-02T20:28:20.826408Z"
    },
    "id": "3bW3O6QI61VF"
   },
   "outputs": [],
   "source": [
    "# # KDE sebelum transformation\n",
    "# cols = ['odometer']\n",
    "\n",
    "# plt.figure(figsize=(8, 6))\n",
    "# for i in range(len(cols)):\n",
    "#   plt.subplot(3, 1, i+1)\n",
    "#   sns.histplot(data=df, x=df[cols[i]], kde=True)\n",
    "#   plt.tight_layout()"
   ]
  },
  {
   "cell_type": "markdown",
   "metadata": {
    "id": "eY3-QC8U_QVy"
   },
   "source": [
    "### 3.5.1 Transformasi dengan Pangkat 1/3"
   ]
  },
  {
   "cell_type": "code",
   "execution_count": 24,
   "metadata": {
    "ExecuteTime": {
     "end_time": "2022-06-02T20:28:21.475375Z",
     "start_time": "2022-06-02T20:28:20.944534Z"
    },
    "colab": {
     "base_uri": "https://localhost:8080/"
    },
    "id": "pIduwo_Y-HpG",
    "outputId": "31227810-8638-48ec-b580-7d2870341efd"
   },
   "outputs": [
    {
     "name": "stdout",
     "output_type": "stream",
     "text": [
      "Skew value: 0.0656155379397687\n"
     ]
    }
   ],
   "source": [
    "df['odometer_pow'] = df['odometer'].apply(lambda x : x**(1/3))\n",
    "print('Skew value:', df['odometer_pow'].skew())\n",
    "\n",
    "# # KDE setelah transformation dengan pangkat 1/3\n",
    "# cols = ['odometer_pow']\n",
    "\n",
    "# plt.figure(figsize=(8, 6))\n",
    "# for i in range(len(cols)):\n",
    "#   plt.subplot(3, 1, i+1)\n",
    "#   sns.histplot(data=df, x=df[cols[i]], kde=True)\n",
    "#   plt.tight_layout()"
   ]
  },
  {
   "cell_type": "markdown",
   "metadata": {
    "id": "9BTLzmvtQ16o"
   },
   "source": [
    "### 3.5.2 PowerTransformer <br>\n",
    "[PowerTransformer](https://medium.com/towards-data-science/how-to-differentiate-between-scaling-normalization-and-log-transformations-69873d365a94)"
   ]
  },
  {
   "cell_type": "code",
   "execution_count": 25,
   "metadata": {
    "ExecuteTime": {
     "end_time": "2022-06-02T20:28:27.084134Z",
     "start_time": "2022-06-02T20:28:21.478335Z"
    },
    "colab": {
     "base_uri": "https://localhost:8080/"
    },
    "id": "-cLhv8LkOY4p",
    "outputId": "eba24a17-ddff-40b7-f013-9710a31cfacb"
   },
   "outputs": [
    {
     "name": "stdout",
     "output_type": "stream",
     "text": [
      "Skew value: 0.012277514291040147\n"
     ]
    }
   ],
   "source": [
    "# Transformasi dengan PowerTransformer\n",
    "from sklearn.preprocessing import PowerTransformer\n",
    "df['odometer_pt'] = PowerTransformer().fit_transform(df['odometer'].values.reshape(len(df), 1))\n",
    "print('Skew value:', df['odometer_pt'].skew())\n",
    "\n",
    "# # KDE setelah Transformasi dengan PowerTransformer\n",
    "# cols = ['odometer_pt']\n",
    "\n",
    "# plt.figure(figsize=(8, 6))\n",
    "# for i in range(len(cols)):\n",
    "#   plt.subplot(3, 1, i+1)\n",
    "#   sns.histplot(data=df, x=df[cols[i]], kde=True)\n",
    "#   plt.tight_layout()"
   ]
  },
  {
   "cell_type": "markdown",
   "metadata": {
    "id": "0IlgjebMKxFG"
   },
   "source": [
    "Berdasarkan nilai skew, kami memilih menggunakan hasil transformasi dari PowerTransformer (odometer_pt)"
   ]
  },
  {
   "cell_type": "code",
   "execution_count": 26,
   "metadata": {
    "ExecuteTime": {
     "end_time": "2022-06-02T20:28:27.300553Z",
     "start_time": "2022-06-02T20:28:27.086127Z"
    },
    "id": "kWK6Xj2sQE8c"
   },
   "outputs": [],
   "source": [
    "# Drop kolom odometer_pow\n",
    "df = df.drop(columns='odometer_pow')"
   ]
  },
  {
   "cell_type": "code",
   "execution_count": 27,
   "metadata": {
    "ExecuteTime": {
     "end_time": "2022-06-02T20:28:27.323706Z",
     "start_time": "2022-06-02T20:28:27.302576Z"
    }
   },
   "outputs": [],
   "source": [
    "# # Normalisasi year\n",
    "# from sklearn.preprocessing import MinMaxScaler, StandardScaler\n",
    "# df['year_norm'] = MinMaxScaler().fit_transform(df['year'].values.reshape(len(df), 1))"
   ]
  },
  {
   "cell_type": "markdown",
   "metadata": {
    "id": "TUeBOHCG-fgO"
   },
   "source": [
    "## 3.6. Handling Outliers <br>\n",
    "Handling outlier dilakukan pada kolom `odometer_pt` dan `sellingprice`."
   ]
  },
  {
   "cell_type": "code",
   "execution_count": 28,
   "metadata": {
    "ExecuteTime": {
     "end_time": "2022-06-02T20:28:27.503846Z",
     "start_time": "2022-06-02T20:28:27.325728Z"
    },
    "colab": {
     "base_uri": "https://localhost:8080/"
    },
    "id": "8ZvLHiuGUjJh",
    "outputId": "b6baab49-6a1b-4a76-cac0-91778a2474d1"
   },
   "outputs": [
    {
     "name": "stdout",
     "output_type": "stream",
     "text": [
      "Jumlah Baris sebelum filter: 533660 \n",
      "\n"
     ]
    }
   ],
   "source": [
    "# Boxplot sebelum handling outlier\n",
    "cols = ['odometer_pt', 'sellingprice']\n",
    "\n",
    "# plt.figure(figsize=(9,6))\n",
    "# for i in range(len(cols)):\n",
    "#     plt.subplot(1, len(cols), i+1)\n",
    "#     sns.boxplot(y = df[cols[i]], orient = 'v')\n",
    "#     plt.tight_layout()\n",
    "\n",
    "rows_before_filt = len(df)\n",
    "print('Jumlah Baris sebelum filter:', rows_before_filt, '\\n')"
   ]
  },
  {
   "cell_type": "code",
   "execution_count": 29,
   "metadata": {
    "ExecuteTime": {
     "end_time": "2022-06-02T20:28:27.837926Z",
     "start_time": "2022-06-02T20:28:27.507836Z"
    }
   },
   "outputs": [
    {
     "name": "stdout",
     "output_type": "stream",
     "text": [
      "Jumlah baris setelah memfilter outlier: 531434\n",
      "Persentase outlier yang dibuang: 0.42\n"
     ]
    }
   ],
   "source": [
    "# Handling outlier dengan IQR odometer_pt\n",
    "Q1 = df['odometer_pt'].quantile(0.25)\n",
    "Q3 = df['odometer_pt'].quantile(0.75)\n",
    "IQR = Q3-Q1\n",
    "\n",
    "low_limit = Q1 - (1.5 * IQR)\n",
    "high_limit = Q3 + (1.5 * IQR)\n",
    "filtered_entries = (df['odometer_pt']>= low_limit) & (df['odometer_pt']<= high_limit)\n",
    "df = df[filtered_entries]\n",
    "\n",
    "# Total baris yang dibuang\n",
    "rows_after_filt = len(df)\n",
    "diff = round((rows_before_filt - rows_after_filt) / rows_before_filt * 100, 2)\n",
    "print(f'Jumlah baris setelah memfilter outlier: {len(df)}')\n",
    "print(f'Persentase outlier yang dibuang:', diff)"
   ]
  },
  {
   "cell_type": "code",
   "execution_count": 30,
   "metadata": {
    "ExecuteTime": {
     "end_time": "2022-06-02T20:28:27.998495Z",
     "start_time": "2022-06-02T20:28:27.840918Z"
    }
   },
   "outputs": [
    {
     "name": "stdout",
     "output_type": "stream",
     "text": [
      "Jumlah baris setelah memfilter outlier: 515386\n",
      "Persentase outlier yang dibuang: 3.42\n"
     ]
    }
   ],
   "source": [
    "# Handling outlier dengan IQR sellingprice\n",
    "Q1 = df['sellingprice'].quantile(0.25)\n",
    "Q3 = df['sellingprice'].quantile(0.75)\n",
    "IQR = Q3-Q1\n",
    "\n",
    "low_limit = Q1 - (1.5 * IQR)\n",
    "high_limit = Q3 + (1.5 * IQR)\n",
    "filtered_entries = (df['sellingprice']>= low_limit) & (df['sellingprice']<= high_limit)\n",
    "df = df[filtered_entries]\n",
    "\n",
    "# Total baris yang dibuang\n",
    "rows_after_filt = len(df)\n",
    "diff = round((rows_before_filt - rows_after_filt) / rows_before_filt * 100, 2)\n",
    "print(f'Jumlah baris setelah memfilter outlier: {len(df)}')\n",
    "print(f'Persentase outlier yang dibuang:', diff)"
   ]
  },
  {
   "cell_type": "code",
   "execution_count": 31,
   "metadata": {
    "ExecuteTime": {
     "end_time": "2022-06-02T20:28:28.077142Z",
     "start_time": "2022-06-02T20:28:28.001488Z"
    },
    "id": "gX6S3S35RZCg"
   },
   "outputs": [],
   "source": [
    "# # Boxplot setelah PowerTransformer dan handlingoutlier\n",
    "# cols = ['odometer_pt', 'sellingprice']\n",
    "# plt.figure(figsize=(9,6))\n",
    "# for i in range(len(cols)):\n",
    "#     plt.subplot(1, len(cols), i+1)\n",
    "#     sns.boxplot(y = df[cols[i]], orient = 'v')\n",
    "#     plt.tight_layout()"
   ]
  },
  {
   "cell_type": "code",
   "execution_count": 32,
   "metadata": {
    "ExecuteTime": {
     "end_time": "2022-06-02T20:28:28.479363Z",
     "start_time": "2022-06-02T20:28:28.079137Z"
    },
    "id": "dewDhUpmnIvq"
   },
   "outputs": [],
   "source": [
    "# # KDE odometer_pt dan sellingprice setelah handling outlier\n",
    "# cols = ['odometer_pt', 'sellingprice']\n",
    "# plt.figure(figsize=(8, 6))\n",
    "# for i in range(len(cols)):\n",
    "#   plt.subplot(3, 1, i+1)\n",
    "#   sns.histplot(data=df, x=df[cols[i]], kde=True)\n",
    "#   plt.tight_layout()"
   ]
  },
  {
   "cell_type": "markdown",
   "metadata": {},
   "source": [
    "## 3.7 Feature Extraction"
   ]
  },
  {
   "cell_type": "markdown",
   "metadata": {},
   "source": [
    "## 3.7.1 Model Segment"
   ]
  },
  {
   "cell_type": "code",
   "execution_count": 33,
   "metadata": {
    "ExecuteTime": {
     "end_time": "2022-06-02T20:28:28.996133Z",
     "start_time": "2022-06-02T20:28:28.482110Z"
    }
   },
   "outputs": [
    {
     "name": "stdout",
     "output_type": "stream",
     "text": [
      "725\n",
      "721\n"
     ]
    }
   ],
   "source": [
    "print(df.model.nunique())\n",
    "df['model'] = df.model.str.lower()\n",
    "print(df.model.nunique())"
   ]
  },
  {
   "cell_type": "code",
   "execution_count": 34,
   "metadata": {
    "ExecuteTime": {
     "end_time": "2022-06-02T20:28:29.051166Z",
     "start_time": "2022-06-02T20:28:28.998129Z"
    }
   },
   "outputs": [
    {
     "data": {
      "text/plain": [
       "array([0.   , 0.125, 0.25 , 0.375, 0.5  , 0.625, 0.75 , 0.875, 1.   ])"
      ]
     },
     "execution_count": 34,
     "metadata": {},
     "output_type": "execute_result"
    }
   ],
   "source": [
    "import numpy as np\n",
    "np.linspace(0, 1, 9)"
   ]
  },
  {
   "cell_type": "code",
   "execution_count": 35,
   "metadata": {
    "ExecuteTime": {
     "end_time": "2022-06-02T20:28:30.922529Z",
     "start_time": "2022-06-02T20:28:29.053123Z"
    }
   },
   "outputs": [
    {
     "data": {
      "text/html": [
       "<div>\n",
       "<style scoped>\n",
       "    .dataframe tbody tr th:only-of-type {\n",
       "        vertical-align: middle;\n",
       "    }\n",
       "\n",
       "    .dataframe tbody tr th {\n",
       "        vertical-align: top;\n",
       "    }\n",
       "\n",
       "    .dataframe thead th {\n",
       "        text-align: right;\n",
       "    }\n",
       "</style>\n",
       "<table border=\"1\" class=\"dataframe\">\n",
       "  <thead>\n",
       "    <tr style=\"text-align: right;\">\n",
       "      <th></th>\n",
       "      <th>model</th>\n",
       "      <th>sellingprice_median</th>\n",
       "    </tr>\n",
       "  </thead>\n",
       "  <tbody>\n",
       "    <tr>\n",
       "      <th>0</th>\n",
       "      <td>1 series</td>\n",
       "      <td>19500.0</td>\n",
       "    </tr>\n",
       "    <tr>\n",
       "      <th>1</th>\n",
       "      <td>1500</td>\n",
       "      <td>22750.0</td>\n",
       "    </tr>\n",
       "    <tr>\n",
       "      <th>2</th>\n",
       "      <td>190-class</td>\n",
       "      <td>750.0</td>\n",
       "    </tr>\n",
       "    <tr>\n",
       "      <th>3</th>\n",
       "      <td>2 series</td>\n",
       "      <td>27375.0</td>\n",
       "    </tr>\n",
       "    <tr>\n",
       "      <th>4</th>\n",
       "      <td>200</td>\n",
       "      <td>10700.0</td>\n",
       "    </tr>\n",
       "    <tr>\n",
       "      <th>...</th>\n",
       "      <td>...</td>\n",
       "      <td>...</td>\n",
       "    </tr>\n",
       "    <tr>\n",
       "      <th>716</th>\n",
       "      <td>z3</td>\n",
       "      <td>4300.0</td>\n",
       "    </tr>\n",
       "    <tr>\n",
       "      <th>717</th>\n",
       "      <td>z4</td>\n",
       "      <td>13600.0</td>\n",
       "    </tr>\n",
       "    <tr>\n",
       "      <th>718</th>\n",
       "      <td>z4 m</td>\n",
       "      <td>21250.0</td>\n",
       "    </tr>\n",
       "    <tr>\n",
       "      <th>719</th>\n",
       "      <td>zdx</td>\n",
       "      <td>26600.0</td>\n",
       "    </tr>\n",
       "    <tr>\n",
       "      <th>720</th>\n",
       "      <td>zephyr</td>\n",
       "      <td>4300.0</td>\n",
       "    </tr>\n",
       "  </tbody>\n",
       "</table>\n",
       "<p>721 rows × 2 columns</p>\n",
       "</div>"
      ],
      "text/plain": [
       "         model  sellingprice_median\n",
       "0     1 series              19500.0\n",
       "1         1500              22750.0\n",
       "2    190-class                750.0\n",
       "3     2 series              27375.0\n",
       "4          200              10700.0\n",
       "..         ...                  ...\n",
       "716         z3               4300.0\n",
       "717         z4              13600.0\n",
       "718       z4 m              21250.0\n",
       "719        zdx              26600.0\n",
       "720     zephyr               4300.0\n",
       "\n",
       "[721 rows x 2 columns]"
      ]
     },
     "execution_count": 35,
     "metadata": {},
     "output_type": "execute_result"
    }
   ],
   "source": [
    "model_median = df.groupby('model').agg({'sellingprice':'median'}).reset_index()\n",
    "model_median.columns= ['model', 'sellingprice_median']\n",
    "model_median"
   ]
  },
  {
   "cell_type": "code",
   "execution_count": 36,
   "metadata": {
    "ExecuteTime": {
     "end_time": "2022-06-02T20:28:30.934497Z",
     "start_time": "2022-06-02T20:28:30.924523Z"
    }
   },
   "outputs": [],
   "source": [
    "def model_segment(x):\n",
    "    if x <= model_median['sellingprice_median'].quantile(0.125):\n",
    "        return 0\n",
    "    elif x <= model_median['sellingprice_median'].quantile(0.25):\n",
    "        return 1 \n",
    "    elif x <= model_median['sellingprice_median'].quantile(0.375):\n",
    "        return 2\n",
    "    elif x <= model_median['sellingprice_median'].quantile(0.5):\n",
    "        return 3\n",
    "    elif x <= model_median['sellingprice_median'].quantile(0.625):\n",
    "        return 4\n",
    "    elif x <= model_median['sellingprice_median'].quantile(0.75):\n",
    "        return 5\n",
    "    elif x <= model_median['sellingprice_median'].quantile(0.875):\n",
    "        return 6\n",
    "    else:\n",
    "        return 7"
   ]
  },
  {
   "cell_type": "code",
   "execution_count": 37,
   "metadata": {
    "ExecuteTime": {
     "end_time": "2022-06-02T20:28:32.852849Z",
     "start_time": "2022-06-02T20:28:30.937489Z"
    }
   },
   "outputs": [],
   "source": [
    "model_median['model_segment'] = model_median['sellingprice_median'].apply(lambda x: model_segment(x))"
   ]
  },
  {
   "cell_type": "code",
   "execution_count": 38,
   "metadata": {
    "ExecuteTime": {
     "end_time": "2022-06-02T20:28:33.049416Z",
     "start_time": "2022-06-02T20:28:32.854716Z"
    }
   },
   "outputs": [
    {
     "data": {
      "text/html": [
       "<div>\n",
       "<style scoped>\n",
       "    .dataframe tbody tr th:only-of-type {\n",
       "        vertical-align: middle;\n",
       "    }\n",
       "\n",
       "    .dataframe tbody tr th {\n",
       "        vertical-align: top;\n",
       "    }\n",
       "\n",
       "    .dataframe thead th {\n",
       "        text-align: right;\n",
       "    }\n",
       "</style>\n",
       "<table border=\"1\" class=\"dataframe\">\n",
       "  <thead>\n",
       "    <tr style=\"text-align: right;\">\n",
       "      <th></th>\n",
       "      <th>model</th>\n",
       "      <th>sellingprice_median</th>\n",
       "      <th>model_segment</th>\n",
       "    </tr>\n",
       "  </thead>\n",
       "  <tbody>\n",
       "    <tr>\n",
       "      <th>390</th>\n",
       "      <td>m56</td>\n",
       "      <td>24400.0</td>\n",
       "      <td>7</td>\n",
       "    </tr>\n",
       "    <tr>\n",
       "      <th>625</th>\n",
       "      <td>tc</td>\n",
       "      <td>9500.0</td>\n",
       "      <td>3</td>\n",
       "    </tr>\n",
       "    <tr>\n",
       "      <th>71</th>\n",
       "      <td>astro cargo</td>\n",
       "      <td>2200.0</td>\n",
       "      <td>1</td>\n",
       "    </tr>\n",
       "    <tr>\n",
       "      <th>157</th>\n",
       "      <td>corolla</td>\n",
       "      <td>10000.0</td>\n",
       "      <td>3</td>\n",
       "    </tr>\n",
       "    <tr>\n",
       "      <th>572</th>\n",
       "      <td>sierra 1500 classic</td>\n",
       "      <td>11000.0</td>\n",
       "      <td>4</td>\n",
       "    </tr>\n",
       "  </tbody>\n",
       "</table>\n",
       "</div>"
      ],
      "text/plain": [
       "                   model  sellingprice_median  model_segment\n",
       "390                  m56              24400.0              7\n",
       "625                   tc               9500.0              3\n",
       "71           astro cargo               2200.0              1\n",
       "157              corolla              10000.0              3\n",
       "572  sierra 1500 classic              11000.0              4"
      ]
     },
     "execution_count": 38,
     "metadata": {},
     "output_type": "execute_result"
    }
   ],
   "source": [
    "model_median.sample(5)"
   ]
  },
  {
   "cell_type": "code",
   "execution_count": 39,
   "metadata": {
    "ExecuteTime": {
     "end_time": "2022-06-02T20:28:34.178057Z",
     "start_time": "2022-06-02T20:28:33.051404Z"
    }
   },
   "outputs": [],
   "source": [
    "df = df.merge(model_median, on='model', how='inner')"
   ]
  },
  {
   "cell_type": "code",
   "execution_count": 40,
   "metadata": {
    "ExecuteTime": {
     "end_time": "2022-06-02T20:28:34.389490Z",
     "start_time": "2022-06-02T20:28:34.180051Z"
    }
   },
   "outputs": [
    {
     "data": {
      "text/html": [
       "<div>\n",
       "<style scoped>\n",
       "    .dataframe tbody tr th:only-of-type {\n",
       "        vertical-align: middle;\n",
       "    }\n",
       "\n",
       "    .dataframe tbody tr th {\n",
       "        vertical-align: top;\n",
       "    }\n",
       "\n",
       "    .dataframe thead th {\n",
       "        text-align: right;\n",
       "    }\n",
       "</style>\n",
       "<table border=\"1\" class=\"dataframe\">\n",
       "  <thead>\n",
       "    <tr style=\"text-align: right;\">\n",
       "      <th></th>\n",
       "      <th>year</th>\n",
       "      <th>make</th>\n",
       "      <th>trim</th>\n",
       "      <th>body</th>\n",
       "      <th>transmission</th>\n",
       "      <th>vin</th>\n",
       "      <th>state</th>\n",
       "      <th>condition</th>\n",
       "      <th>odometer</th>\n",
       "      <th>color</th>\n",
       "      <th>interior</th>\n",
       "      <th>seller</th>\n",
       "      <th>mmr</th>\n",
       "      <th>sellingprice</th>\n",
       "      <th>saledate</th>\n",
       "      <th>odometer_pt</th>\n",
       "      <th>model_segment</th>\n",
       "    </tr>\n",
       "  </thead>\n",
       "  <tbody>\n",
       "    <tr>\n",
       "      <th>426644</th>\n",
       "      <td>2006</td>\n",
       "      <td>cadillac</td>\n",
       "      <td>Base</td>\n",
       "      <td>sedan</td>\n",
       "      <td>automatic</td>\n",
       "      <td>1g6dp577960130786</td>\n",
       "      <td>fl</td>\n",
       "      <td>2.3</td>\n",
       "      <td>100740.0</td>\n",
       "      <td>red</td>\n",
       "      <td>gray</td>\n",
       "      <td>nicholas financial inc/clearwater</td>\n",
       "      <td>5500</td>\n",
       "      <td>4500</td>\n",
       "      <td>Thu Jan 29 2015 07:01:00 GMT-0800 (PST)</td>\n",
       "      <td>0.839521</td>\n",
       "      <td>3</td>\n",
       "    </tr>\n",
       "    <tr>\n",
       "      <th>347746</th>\n",
       "      <td>2010</td>\n",
       "      <td>chrysler</td>\n",
       "      <td>Limited Fleet</td>\n",
       "      <td>minivan</td>\n",
       "      <td>automatic</td>\n",
       "      <td>2a4rr6dxxar186218</td>\n",
       "      <td>mn</td>\n",
       "      <td>4.1</td>\n",
       "      <td>80348.0</td>\n",
       "      <td>black</td>\n",
       "      <td>gray</td>\n",
       "      <td>walser chrysler jeep dodge</td>\n",
       "      <td>13700</td>\n",
       "      <td>14400</td>\n",
       "      <td>Wed Feb 11 2015 02:30:00 GMT-0800 (PST)</td>\n",
       "      <td>0.521776</td>\n",
       "      <td>5</td>\n",
       "    </tr>\n",
       "    <tr>\n",
       "      <th>379142</th>\n",
       "      <td>2010</td>\n",
       "      <td>honda</td>\n",
       "      <td>EX-L</td>\n",
       "      <td>minivan</td>\n",
       "      <td>automatic</td>\n",
       "      <td>5fnrl3h7xab106573</td>\n",
       "      <td>tx</td>\n",
       "      <td>3.9</td>\n",
       "      <td>103404.0</td>\n",
       "      <td>black</td>\n",
       "      <td>gray</td>\n",
       "      <td>pm standley motorcars</td>\n",
       "      <td>11600</td>\n",
       "      <td>12900</td>\n",
       "      <td>Wed Jan 07 2015 10:20:00 GMT-0800 (PST)</td>\n",
       "      <td>0.877662</td>\n",
       "      <td>4</td>\n",
       "    </tr>\n",
       "    <tr>\n",
       "      <th>306581</th>\n",
       "      <td>2006</td>\n",
       "      <td>chrysler</td>\n",
       "      <td>C</td>\n",
       "      <td>sedan</td>\n",
       "      <td>automatic</td>\n",
       "      <td>2c3lk63h66h137920</td>\n",
       "      <td>ma</td>\n",
       "      <td>3.3</td>\n",
       "      <td>152603.0</td>\n",
       "      <td>silver</td>\n",
       "      <td>gray</td>\n",
       "      <td>metro volkswagen</td>\n",
       "      <td>4725</td>\n",
       "      <td>4200</td>\n",
       "      <td>Tue Feb 24 2015 02:00:00 GMT-0800 (PST)</td>\n",
       "      <td>1.485071</td>\n",
       "      <td>4</td>\n",
       "    </tr>\n",
       "    <tr>\n",
       "      <th>402742</th>\n",
       "      <td>2014</td>\n",
       "      <td>jeep</td>\n",
       "      <td>Sport</td>\n",
       "      <td>suv</td>\n",
       "      <td>automatic</td>\n",
       "      <td>1c4njrbb3ed778802</td>\n",
       "      <td>pa</td>\n",
       "      <td>4.2</td>\n",
       "      <td>17941.0</td>\n",
       "      <td>black</td>\n",
       "      <td>black</td>\n",
       "      <td>enterprise veh exchange/rental</td>\n",
       "      <td>15600</td>\n",
       "      <td>15900</td>\n",
       "      <td>Fri Jan 23 2015 01:00:00 GMT-0800 (PST)</td>\n",
       "      <td>-1.099349</td>\n",
       "      <td>4</td>\n",
       "    </tr>\n",
       "  </tbody>\n",
       "</table>\n",
       "</div>"
      ],
      "text/plain": [
       "        year      make           trim     body transmission  \\\n",
       "426644  2006  cadillac           Base    sedan    automatic   \n",
       "347746  2010  chrysler  Limited Fleet  minivan    automatic   \n",
       "379142  2010     honda           EX-L  minivan    automatic   \n",
       "306581  2006  chrysler              C    sedan    automatic   \n",
       "402742  2014      jeep          Sport      suv    automatic   \n",
       "\n",
       "                      vin state  condition  odometer   color interior  \\\n",
       "426644  1g6dp577960130786    fl        2.3  100740.0     red     gray   \n",
       "347746  2a4rr6dxxar186218    mn        4.1   80348.0   black     gray   \n",
       "379142  5fnrl3h7xab106573    tx        3.9  103404.0   black     gray   \n",
       "306581  2c3lk63h66h137920    ma        3.3  152603.0  silver     gray   \n",
       "402742  1c4njrbb3ed778802    pa        4.2   17941.0   black    black   \n",
       "\n",
       "                                   seller    mmr  sellingprice  \\\n",
       "426644  nicholas financial inc/clearwater   5500          4500   \n",
       "347746         walser chrysler jeep dodge  13700         14400   \n",
       "379142              pm standley motorcars  11600         12900   \n",
       "306581                   metro volkswagen   4725          4200   \n",
       "402742     enterprise veh exchange/rental  15600         15900   \n",
       "\n",
       "                                       saledate  odometer_pt  model_segment  \n",
       "426644  Thu Jan 29 2015 07:01:00 GMT-0800 (PST)     0.839521              3  \n",
       "347746  Wed Feb 11 2015 02:30:00 GMT-0800 (PST)     0.521776              5  \n",
       "379142  Wed Jan 07 2015 10:20:00 GMT-0800 (PST)     0.877662              4  \n",
       "306581  Tue Feb 24 2015 02:00:00 GMT-0800 (PST)     1.485071              4  \n",
       "402742  Fri Jan 23 2015 01:00:00 GMT-0800 (PST)    -1.099349              4  "
      ]
     },
     "execution_count": 40,
     "metadata": {},
     "output_type": "execute_result"
    }
   ],
   "source": [
    "df = df.drop(['model','sellingprice_median'],axis=1)\n",
    "df.sample(5)"
   ]
  },
  {
   "cell_type": "code",
   "execution_count": 41,
   "metadata": {
    "ExecuteTime": {
     "end_time": "2022-06-02T20:28:34.396473Z",
     "start_time": "2022-06-02T20:28:34.390488Z"
    }
   },
   "outputs": [
    {
     "data": {
      "text/plain": [
       "Index(['year', 'make', 'trim', 'body', 'transmission', 'vin', 'state',\n",
       "       'condition', 'odometer', 'color', 'interior', 'seller', 'mmr',\n",
       "       'sellingprice', 'saledate', 'odometer_pt', 'model_segment'],\n",
       "      dtype='object')"
      ]
     },
     "execution_count": 41,
     "metadata": {},
     "output_type": "execute_result"
    }
   ],
   "source": [
    "df.columns"
   ]
  },
  {
   "cell_type": "code",
   "execution_count": 42,
   "metadata": {
    "ExecuteTime": {
     "end_time": "2022-06-02T20:28:35.652115Z",
     "start_time": "2022-06-02T20:28:34.399464Z"
    }
   },
   "outputs": [
    {
     "data": {
      "text/html": [
       "<div>\n",
       "<style scoped>\n",
       "    .dataframe tbody tr th:only-of-type {\n",
       "        vertical-align: middle;\n",
       "    }\n",
       "\n",
       "    .dataframe tbody tr th {\n",
       "        vertical-align: top;\n",
       "    }\n",
       "\n",
       "    .dataframe thead th {\n",
       "        text-align: right;\n",
       "    }\n",
       "</style>\n",
       "<table border=\"1\" class=\"dataframe\">\n",
       "  <thead>\n",
       "    <tr style=\"text-align: right;\">\n",
       "      <th></th>\n",
       "      <th>make</th>\n",
       "      <th>trim</th>\n",
       "      <th>body</th>\n",
       "      <th>transmission</th>\n",
       "      <th>vin</th>\n",
       "      <th>state</th>\n",
       "      <th>color</th>\n",
       "      <th>interior</th>\n",
       "      <th>seller</th>\n",
       "      <th>saledate</th>\n",
       "    </tr>\n",
       "  </thead>\n",
       "  <tbody>\n",
       "    <tr>\n",
       "      <th>count</th>\n",
       "      <td>515386</td>\n",
       "      <td>515386</td>\n",
       "      <td>515386</td>\n",
       "      <td>515386</td>\n",
       "      <td>515386</td>\n",
       "      <td>515386</td>\n",
       "      <td>515386</td>\n",
       "      <td>515386</td>\n",
       "      <td>515386</td>\n",
       "      <td>515386</td>\n",
       "    </tr>\n",
       "    <tr>\n",
       "      <th>unique</th>\n",
       "      <td>25</td>\n",
       "      <td>1437</td>\n",
       "      <td>11</td>\n",
       "      <td>2</td>\n",
       "      <td>507828</td>\n",
       "      <td>38</td>\n",
       "      <td>10</td>\n",
       "      <td>5</td>\n",
       "      <td>12425</td>\n",
       "      <td>3615</td>\n",
       "    </tr>\n",
       "    <tr>\n",
       "      <th>top</th>\n",
       "      <td>ford</td>\n",
       "      <td>Base</td>\n",
       "      <td>sedan</td>\n",
       "      <td>automatic</td>\n",
       "      <td>wbanv13588cz57827</td>\n",
       "      <td>fl</td>\n",
       "      <td>black</td>\n",
       "      <td>black</td>\n",
       "      <td>nissan-infiniti lt</td>\n",
       "      <td>Tue Feb 10 2015 01:30:00 GMT-0800 (PST)</td>\n",
       "    </tr>\n",
       "    <tr>\n",
       "      <th>freq</th>\n",
       "      <td>89801</td>\n",
       "      <td>51553</td>\n",
       "      <td>231630</td>\n",
       "      <td>499580</td>\n",
       "      <td>5</td>\n",
       "      <td>76900</td>\n",
       "      <td>100972</td>\n",
       "      <td>228435</td>\n",
       "      <td>19662</td>\n",
       "      <td>5127</td>\n",
       "    </tr>\n",
       "  </tbody>\n",
       "</table>\n",
       "</div>"
      ],
      "text/plain": [
       "          make    trim    body transmission                vin   state  \\\n",
       "count   515386  515386  515386       515386             515386  515386   \n",
       "unique      25    1437      11            2             507828      38   \n",
       "top       ford    Base   sedan    automatic  wbanv13588cz57827      fl   \n",
       "freq     89801   51553  231630       499580                  5   76900   \n",
       "\n",
       "         color interior              seller  \\\n",
       "count   515386   515386              515386   \n",
       "unique      10        5               12425   \n",
       "top      black    black  nissan-infiniti lt   \n",
       "freq    100972   228435               19662   \n",
       "\n",
       "                                       saledate  \n",
       "count                                    515386  \n",
       "unique                                     3615  \n",
       "top     Tue Feb 10 2015 01:30:00 GMT-0800 (PST)  \n",
       "freq                                       5127  "
      ]
     },
     "execution_count": 42,
     "metadata": {},
     "output_type": "execute_result"
    }
   ],
   "source": [
    "df.describe(include='object')"
   ]
  },
  {
   "cell_type": "markdown",
   "metadata": {
    "id": "nK4WM9BrkDTY"
   },
   "source": [
    "## 3.9. Feature Selection\n",
    "- pertama pakai color\n",
    "- setelah lihat feature imporatance maka color dibuang dan akurasinya tetap sama"
   ]
  },
  {
   "cell_type": "code",
   "execution_count": 43,
   "metadata": {
    "ExecuteTime": {
     "end_time": "2022-06-02T20:28:35.805726Z",
     "start_time": "2022-06-02T20:28:35.654106Z"
    }
   },
   "outputs": [],
   "source": [
    "# Feature yang dipilih untuk memprediksi sellingprice\n",
    "df = df[['year', 'odometer_pt', 'condition', 'transmission', 'model_segment',\n",
    "         'make', 'body', 'interior', 'color',\n",
    "         'sellingprice']]\n",
    "\n",
    "# Buang sellingprice bernilai 1\n",
    "df = df[~(df['sellingprice']==1)]"
   ]
  },
  {
   "cell_type": "markdown",
   "metadata": {
    "id": "tnVHg19hLVmZ"
   },
   "source": [
    "## 3.10. Feature encoding"
   ]
  },
  {
   "cell_type": "markdown",
   "metadata": {
    "id": "zxGL7vdhoMLu"
   },
   "source": [
    "### 3.10.1 Label Encoding"
   ]
  },
  {
   "cell_type": "code",
   "execution_count": 44,
   "metadata": {
    "ExecuteTime": {
     "end_time": "2022-06-02T20:28:35.885568Z",
     "start_time": "2022-06-02T20:28:35.807694Z"
    },
    "colab": {
     "base_uri": "https://localhost:8080/"
    },
    "id": "gLwhl8UhnknT",
    "outputId": "96fed35f-3279-468f-e312-d9144df7e9b6"
   },
   "outputs": [],
   "source": [
    "# Label encoding -> kolom transmission\n",
    "mapping_trans = {\n",
    "    'automatic' : 0,\n",
    "    'manual' : 1\n",
    "}\n",
    "\n",
    "df['transmission'] = df['transmission'].map(mapping_trans)"
   ]
  },
  {
   "cell_type": "markdown",
   "metadata": {
    "id": "zxGL7vdhoMLu"
   },
   "source": [
    "### 3.10.2 OHE"
   ]
  },
  {
   "cell_type": "code",
   "execution_count": 45,
   "metadata": {
    "ExecuteTime": {
     "end_time": "2022-06-02T20:28:36.646974Z",
     "start_time": "2022-06-02T20:28:35.886565Z"
    }
   },
   "outputs": [],
   "source": [
    "cols_OHE = ['make',  'body', 'interior', 'color']\n",
    "\n",
    "for i in cols_OHE:\n",
    "    onehots = pd.get_dummies(df[i], prefix=i, drop_first=True)  # drop_first=True utk menghindari multicollinearity\n",
    "    df = df.join(onehots)\n",
    "    \n",
    "\n",
    "# kolom yang telah dilakukan OHE akan di-drop\n",
    "df = df.drop(columns=cols_OHE)"
   ]
  },
  {
   "cell_type": "code",
   "execution_count": 46,
   "metadata": {
    "ExecuteTime": {
     "end_time": "2022-06-02T20:28:36.653921Z",
     "start_time": "2022-06-02T20:28:36.648933Z"
    },
    "colab": {
     "base_uri": "https://localhost:8080/"
    },
    "id": "acXwumzZkApi",
    "outputId": "96e26f36-cb7d-4858-f951-711a1eda6d26"
   },
   "outputs": [
    {
     "data": {
      "text/plain": [
       "Index(['year', 'odometer_pt', 'condition', 'transmission', 'model_segment',\n",
       "       'sellingprice', 'make_audi', 'make_bmw', 'make_buick', 'make_cadillac',\n",
       "       'make_chevrolet', 'make_chrysler', 'make_dodge', 'make_ford',\n",
       "       'make_gmc', 'make_honda', 'make_hyundai', 'make_infiniti', 'make_jeep',\n",
       "       'make_kia', 'make_lexus', 'make_lincoln', 'make_mazda',\n",
       "       'make_mercedes-benz', 'make_nissan', 'make_others', 'make_ram',\n",
       "       'make_subaru', 'make_toyota', 'make_volkswagen', 'body_coupe',\n",
       "       'body_crew cab', 'body_g sedan', 'body_hatchback', 'body_minivan',\n",
       "       'body_others', 'body_sedan', 'body_supercrew', 'body_suv', 'body_wagon',\n",
       "       'interior_black', 'interior_gray', 'interior_others', 'interior_tan',\n",
       "       'color_black', 'color_blue', 'color_gold', 'color_gray', 'color_green',\n",
       "       'color_others', 'color_red', 'color_silver', 'color_white'],\n",
       "      dtype='object')"
      ]
     },
     "execution_count": 46,
     "metadata": {},
     "output_type": "execute_result"
    }
   ],
   "source": [
    "df.columns"
   ]
  },
  {
   "cell_type": "code",
   "execution_count": 47,
   "metadata": {
    "ExecuteTime": {
     "end_time": "2022-06-02T20:28:36.834611Z",
     "start_time": "2022-06-02T20:28:36.655915Z"
    },
    "colab": {
     "base_uri": "https://localhost:8080/"
    },
    "id": "5kQO0586mO4Y",
    "outputId": "d2897d2f-583d-48e4-aed5-9466f4d1a3f8"
   },
   "outputs": [
    {
     "data": {
      "text/plain": [
       "(515384, 53)"
      ]
     },
     "execution_count": 47,
     "metadata": {},
     "output_type": "execute_result"
    }
   ],
   "source": [
    "df.shape"
   ]
  },
  {
   "cell_type": "code",
   "execution_count": 48,
   "metadata": {
    "ExecuteTime": {
     "end_time": "2022-06-02T20:28:37.079058Z",
     "start_time": "2022-06-02T20:28:36.839571Z"
    },
    "colab": {
     "base_uri": "https://localhost:8080/"
    },
    "id": "sK2mcpTeWh7n",
    "outputId": "36955000-0f5c-403e-fc01-689872f6e195"
   },
   "outputs": [],
   "source": [
    "# df.isna().sum()"
   ]
  },
  {
   "cell_type": "markdown",
   "metadata": {},
   "source": [
    "## 3.11 Train-Test Split Data"
   ]
  },
  {
   "cell_type": "code",
   "execution_count": 49,
   "metadata": {
    "ExecuteTime": {
     "end_time": "2022-06-02T20:28:38.181492Z",
     "start_time": "2022-06-02T20:28:37.083046Z"
    },
    "colab": {
     "base_uri": "https://localhost:8080/"
    },
    "id": "CTuOEXN-tvBF",
    "outputId": "ce21906d-453e-48c2-acc0-2f9a70ff971b"
   },
   "outputs": [
    {
     "name": "stdout",
     "output_type": "stream",
     "text": [
      "Total training data: 360768\n",
      "Total testing data : 154616\n"
     ]
    }
   ],
   "source": [
    "# Split Dataset\n",
    "from sklearn.model_selection import train_test_split\n",
    "training_data, testing_data = train_test_split(df, test_size=0.3, random_state=100)\n",
    "\n",
    "print('Total training data:', training_data.shape[0])\n",
    "print('Total testing data :', testing_data.shape[0])"
   ]
  },
  {
   "cell_type": "code",
   "execution_count": 52,
   "metadata": {
    "ExecuteTime": {
     "end_time": "2022-06-02T20:30:12.954360Z",
     "start_time": "2022-06-02T20:30:12.918450Z"
    }
   },
   "outputs": [
    {
     "data": {
      "text/html": [
       "<div>\n",
       "<style scoped>\n",
       "    .dataframe tbody tr th:only-of-type {\n",
       "        vertical-align: middle;\n",
       "    }\n",
       "\n",
       "    .dataframe tbody tr th {\n",
       "        vertical-align: top;\n",
       "    }\n",
       "\n",
       "    .dataframe thead th {\n",
       "        text-align: right;\n",
       "    }\n",
       "</style>\n",
       "<table border=\"1\" class=\"dataframe\">\n",
       "  <thead>\n",
       "    <tr style=\"text-align: right;\">\n",
       "      <th></th>\n",
       "      <th>year</th>\n",
       "      <th>odometer_pt</th>\n",
       "      <th>condition</th>\n",
       "      <th>transmission</th>\n",
       "      <th>model_segment</th>\n",
       "      <th>sellingprice</th>\n",
       "      <th>make_audi</th>\n",
       "      <th>make_bmw</th>\n",
       "      <th>make_buick</th>\n",
       "      <th>make_cadillac</th>\n",
       "      <th>make_chevrolet</th>\n",
       "      <th>make_chrysler</th>\n",
       "      <th>make_dodge</th>\n",
       "      <th>make_ford</th>\n",
       "      <th>make_gmc</th>\n",
       "      <th>make_honda</th>\n",
       "      <th>make_hyundai</th>\n",
       "      <th>make_infiniti</th>\n",
       "      <th>make_jeep</th>\n",
       "      <th>make_kia</th>\n",
       "      <th>make_lexus</th>\n",
       "      <th>make_lincoln</th>\n",
       "      <th>make_mazda</th>\n",
       "      <th>make_mercedes-benz</th>\n",
       "      <th>make_nissan</th>\n",
       "      <th>make_others</th>\n",
       "      <th>make_ram</th>\n",
       "      <th>make_subaru</th>\n",
       "      <th>make_toyota</th>\n",
       "      <th>make_volkswagen</th>\n",
       "      <th>body_coupe</th>\n",
       "      <th>body_crew cab</th>\n",
       "      <th>body_g sedan</th>\n",
       "      <th>body_hatchback</th>\n",
       "      <th>body_minivan</th>\n",
       "      <th>body_others</th>\n",
       "      <th>body_sedan</th>\n",
       "      <th>body_supercrew</th>\n",
       "      <th>body_suv</th>\n",
       "      <th>body_wagon</th>\n",
       "      <th>interior_black</th>\n",
       "      <th>interior_gray</th>\n",
       "      <th>interior_others</th>\n",
       "      <th>interior_tan</th>\n",
       "      <th>color_black</th>\n",
       "      <th>color_blue</th>\n",
       "      <th>color_gold</th>\n",
       "      <th>color_gray</th>\n",
       "      <th>color_green</th>\n",
       "      <th>color_others</th>\n",
       "      <th>color_red</th>\n",
       "      <th>color_silver</th>\n",
       "      <th>color_white</th>\n",
       "    </tr>\n",
       "  </thead>\n",
       "  <tbody>\n",
       "    <tr>\n",
       "      <th>315013</th>\n",
       "      <td>2014</td>\n",
       "      <td>-1.712884</td>\n",
       "      <td>4.2</td>\n",
       "      <td>0</td>\n",
       "      <td>6</td>\n",
       "      <td>17800</td>\n",
       "      <td>0</td>\n",
       "      <td>0</td>\n",
       "      <td>0</td>\n",
       "      <td>0</td>\n",
       "      <td>0</td>\n",
       "      <td>0</td>\n",
       "      <td>0</td>\n",
       "      <td>1</td>\n",
       "      <td>0</td>\n",
       "      <td>0</td>\n",
       "      <td>0</td>\n",
       "      <td>0</td>\n",
       "      <td>0</td>\n",
       "      <td>0</td>\n",
       "      <td>0</td>\n",
       "      <td>0</td>\n",
       "      <td>0</td>\n",
       "      <td>0</td>\n",
       "      <td>0</td>\n",
       "      <td>0</td>\n",
       "      <td>0</td>\n",
       "      <td>0</td>\n",
       "      <td>0</td>\n",
       "      <td>0</td>\n",
       "      <td>0</td>\n",
       "      <td>0</td>\n",
       "      <td>0</td>\n",
       "      <td>0</td>\n",
       "      <td>0</td>\n",
       "      <td>1</td>\n",
       "      <td>0</td>\n",
       "      <td>0</td>\n",
       "      <td>0</td>\n",
       "      <td>0</td>\n",
       "      <td>0</td>\n",
       "      <td>1</td>\n",
       "      <td>0</td>\n",
       "      <td>0</td>\n",
       "      <td>0</td>\n",
       "      <td>0</td>\n",
       "      <td>0</td>\n",
       "      <td>0</td>\n",
       "      <td>0</td>\n",
       "      <td>0</td>\n",
       "      <td>0</td>\n",
       "      <td>0</td>\n",
       "      <td>1</td>\n",
       "    </tr>\n",
       "  </tbody>\n",
       "</table>\n",
       "</div>"
      ],
      "text/plain": [
       "        year  odometer_pt  condition  transmission  model_segment  \\\n",
       "315013  2014    -1.712884        4.2             0              6   \n",
       "\n",
       "        sellingprice  make_audi  make_bmw  make_buick  make_cadillac  \\\n",
       "315013         17800          0         0           0              0   \n",
       "\n",
       "        make_chevrolet  make_chrysler  make_dodge  make_ford  make_gmc  \\\n",
       "315013               0              0           0          1         0   \n",
       "\n",
       "        make_honda  make_hyundai  make_infiniti  make_jeep  make_kia  \\\n",
       "315013           0             0              0          0         0   \n",
       "\n",
       "        make_lexus  make_lincoln  make_mazda  make_mercedes-benz  make_nissan  \\\n",
       "315013           0             0           0                   0            0   \n",
       "\n",
       "        make_others  make_ram  make_subaru  make_toyota  make_volkswagen  \\\n",
       "315013            0         0            0            0                0   \n",
       "\n",
       "        body_coupe  body_crew cab  body_g sedan  body_hatchback  body_minivan  \\\n",
       "315013           0              0             0               0             0   \n",
       "\n",
       "        body_others  body_sedan  body_supercrew  body_suv  body_wagon  \\\n",
       "315013            1           0               0         0           0   \n",
       "\n",
       "        interior_black  interior_gray  interior_others  interior_tan  \\\n",
       "315013               0              1                0             0   \n",
       "\n",
       "        color_black  color_blue  color_gold  color_gray  color_green  \\\n",
       "315013            0           0           0           0            0   \n",
       "\n",
       "        color_others  color_red  color_silver  color_white  \n",
       "315013             0          0             0            1  "
      ]
     },
     "execution_count": 52,
     "metadata": {},
     "output_type": "execute_result"
    }
   ],
   "source": [
    "pd.set_option('display.max_columns', None)\n",
    "df.sample()"
   ]
  },
  {
   "cell_type": "code",
   "execution_count": 51,
   "metadata": {
    "ExecuteTime": {
     "end_time": "2022-06-02T11:02:03.818923Z",
     "start_time": "2022-06-02T11:02:03.815931Z"
    },
    "id": "Kd_VpiX2ZMyP"
   },
   "outputs": [],
   "source": [
    "# # Save to csv\n",
    "# training_data.to_csv('train_data.csv', index=False)\n",
    "# testing_data.to_csv('test_data.csv', index=False)"
   ]
  },
  {
   "cell_type": "code",
   "execution_count": 52,
   "metadata": {
    "ExecuteTime": {
     "end_time": "2022-06-02T11:02:04.724135Z",
     "start_time": "2022-06-02T11:02:04.672316Z"
    },
    "id": "kIX6SSDSeu6s"
   },
   "outputs": [],
   "source": [
    "# Splitting data\n",
    "\n",
    "X_train = training_data.drop(columns=['sellingprice'])\n",
    "y_train =  training_data['sellingprice']\n",
    "\n",
    "X_test = testing_data.drop(columns=['sellingprice'])\n",
    "y_test = testing_data['sellingprice']"
   ]
  },
  {
   "cell_type": "code",
   "execution_count": 53,
   "metadata": {
    "ExecuteTime": {
     "end_time": "2022-06-02T11:02:06.573179Z",
     "start_time": "2022-06-02T11:02:05.615420Z"
    },
    "id": "y-c7F93tfbRS"
   },
   "outputs": [],
   "source": [
    "# Standarisasi Features\n",
    "from sklearn.preprocessing import StandardScaler\n",
    "\n",
    "ss = StandardScaler()\n",
    "X_train = ss.fit_transform(X_train)\n",
    "X_test = ss.transform (X_test)"
   ]
  },
  {
   "cell_type": "code",
   "execution_count": 72,
   "metadata": {
    "ExecuteTime": {
     "end_time": "2022-06-02T11:19:26.438073Z",
     "start_time": "2022-06-02T11:19:26.429097Z"
    }
   },
   "outputs": [],
   "source": [
    "import matplotlib.pyplot as plt\n",
    "from sklearn.metrics import mean_squared_error, mean_absolute_error, r2_score\n",
    "def show_feature_importance(model):\n",
    "    feat_importances = pd.Series(model.feature_importances_, index=X.columns)\n",
    "    ax = feat_importances.nlargest(30).plot(kind='barh', figsize=(10, 8), color='#008B8B', edgecolor='black')\n",
    "    ax.set_facecolor(\"#F5F5F5\")\n",
    "    \n",
    "    ax.invert_yaxis()\n",
    "    \n",
    "    ax.xaxis.label.set_size(12)\n",
    "    ax.yaxis.label.set_size(12)\n",
    "\n",
    "    plt.xlabel('Score')\n",
    "    plt.ylabel('Feature')\n",
    "    plt.title('Feature Importance Score', fontsize=15, fontweight='bold')\n",
    "    \n",
    "    \n",
    "def evaluation(model):\n",
    "    # Eval Train\n",
    "    y_pred_train = model.predict(X_train)\n",
    "    print('Train Score')\n",
    "    print(\"MAE: %.2f\" % mean_absolute_error(y_pred_train, y_train)) # The MAE\n",
    "    print(\"RMSE: %.2f\" % mean_squared_error(y_pred_train, y_train, squared=False)) # The RMSE\n",
    "    print('R2 score: %.2f' % r2_score(y_pred_train, y_train)) # Explained variance score: 1 is perfect prediction\n",
    "    print('='*50)\n",
    "\n",
    "    # Eval Test\n",
    "    y_pred_test = model.predict(X_test)\n",
    "    print('Test Score')\n",
    "    print(\"MAE: %.2f\" % mean_absolute_error(y_pred_test, y_test)) # The MAE\n",
    "    print(\"RMSE: %.2f\" % mean_squared_error(y_pred_test, y_test, squared=False)) # The RMSE\n",
    "    print('R2 score: %.2f' % r2_score(y_pred_test, y_test)) # Explained variance score: 1 is perfect prediction"
   ]
  },
  {
   "cell_type": "code",
   "execution_count": 55,
   "metadata": {
    "ExecuteTime": {
     "end_time": "2022-06-02T11:02:09.012286Z",
     "start_time": "2022-06-02T11:02:08.976383Z"
    }
   },
   "outputs": [],
   "source": [
    "X = training_data.drop('sellingprice', axis=1)"
   ]
  },
  {
   "cell_type": "markdown",
   "metadata": {},
   "source": [
    "# 4. RandomForest"
   ]
  },
  {
   "cell_type": "code",
   "execution_count": 56,
   "metadata": {
    "ExecuteTime": {
     "end_time": "2022-06-02T11:02:10.179121Z",
     "start_time": "2022-06-02T11:02:10.095131Z"
    },
    "colab": {
     "base_uri": "https://localhost:8080/"
    },
    "id": "c_DzbFoiPCTN",
    "outputId": "c3e16fdf-891f-4e89-bf0b-5d9562b742dc"
   },
   "outputs": [],
   "source": [
    "# from sklearn.ensemble import RandomForestRegressor\n",
    "\n",
    "# rf = RandomForestRegressor(random_state=100)\n",
    "# rf.fit(X_train, y_train)\n",
    "\n",
    "# evaluation(rf)"
   ]
  },
  {
   "cell_type": "code",
   "execution_count": 57,
   "metadata": {
    "ExecuteTime": {
     "end_time": "2022-06-02T11:02:10.611022Z",
     "start_time": "2022-06-02T11:02:10.607034Z"
    }
   },
   "outputs": [],
   "source": [
    "# show_feature_importance(rf)"
   ]
  },
  {
   "cell_type": "markdown",
   "metadata": {},
   "source": [
    "# 5. XGBoost"
   ]
  },
  {
   "cell_type": "code",
   "execution_count": 58,
   "metadata": {
    "ExecuteTime": {
     "end_time": "2022-06-02T11:02:38.947028Z",
     "start_time": "2022-06-02T11:02:12.078382Z"
    }
   },
   "outputs": [
    {
     "name": "stdout",
     "output_type": "stream",
     "text": [
      "Train Score\n",
      "MAE: 1685.48\n",
      "RMSE: 2450.54\n",
      "R2 score: 0.88\n",
      "==================================================\n",
      "Test Score\n",
      "MAE: 1724.38\n",
      "RMSE: 2517.05\n",
      "R2 score: 0.88\n"
     ]
    }
   ],
   "source": [
    "from xgboost import XGBRegressor\n",
    "xg = XGBRegressor()\n",
    "xg.fit(X_train, y_train)\n",
    "\n",
    "evaluation(xg)"
   ]
  },
  {
   "cell_type": "code",
   "execution_count": 59,
   "metadata": {
    "ExecuteTime": {
     "end_time": "2022-06-02T11:02:40.730670Z",
     "start_time": "2022-06-02T11:02:38.948026Z"
    }
   },
   "outputs": [
    {
     "data": {
      "image/png": "[encoded data removed]",
      "text/plain": [
       "<Figure size 720x576 with 1 Axes>"
      ]
     },
     "metadata": {
      "needs_background": "light"
     },
     "output_type": "display_data"
    }
   ],
   "source": [
    "show_feature_importance(xg)"
   ]
  },
  {
   "cell_type": "markdown",
   "metadata": {},
   "source": [
    "# 6. Linear Regression"
   ]
  },
  {
   "cell_type": "code",
   "execution_count": 60,
   "metadata": {
    "ExecuteTime": {
     "end_time": "2022-06-02T11:03:50.597405Z",
     "start_time": "2022-06-02T11:03:48.664229Z"
    }
   },
   "outputs": [
    {
     "name": "stdout",
     "output_type": "stream",
     "text": [
      "Train Score\n",
      "MAE: 2680.79\n",
      "RMSE: 3603.96\n",
      "R2 score: 0.72\n",
      "==================================================\n",
      "Test Score\n",
      "MAE: 2692.27\n",
      "RMSE: 3621.39\n",
      "R2 score: 0.71\n"
     ]
    }
   ],
   "source": [
    "from sklearn.linear_model import LinearRegression\n",
    "lr = LinearRegression()\n",
    "lr.fit(X_train, y_train)\n",
    "\n",
    "evaluation(lr)"
   ]
  },
  {
   "cell_type": "markdown",
   "metadata": {},
   "source": [
    "# 7. Lasso"
   ]
  },
  {
   "cell_type": "code",
   "execution_count": 61,
   "metadata": {
    "ExecuteTime": {
     "end_time": "2022-06-02T11:04:01.377090Z",
     "start_time": "2022-06-02T11:03:50.598402Z"
    }
   },
   "outputs": [
    {
     "name": "stdout",
     "output_type": "stream",
     "text": [
      "Train Score\n",
      "MAE: 2680.53\n",
      "RMSE: 3604.07\n",
      "R2 score: 0.72\n",
      "==================================================\n",
      "Test Score\n",
      "MAE: 2692.20\n",
      "RMSE: 3621.63\n",
      "R2 score: 0.71\n"
     ]
    }
   ],
   "source": [
    "from sklearn.linear_model import Lasso\n",
    "lasso = Lasso()\n",
    "lasso.fit(X_train, y_train)\n",
    "\n",
    "evaluation(lasso)"
   ]
  },
  {
   "cell_type": "markdown",
   "metadata": {},
   "source": [
    "# 8. Ridge"
   ]
  },
  {
   "cell_type": "code",
   "execution_count": 62,
   "metadata": {
    "ExecuteTime": {
     "end_time": "2022-06-02T11:04:01.757259Z",
     "start_time": "2022-06-02T11:04:01.379086Z"
    }
   },
   "outputs": [
    {
     "name": "stdout",
     "output_type": "stream",
     "text": [
      "Train Score\n",
      "MAE: 2680.79\n",
      "RMSE: 3603.96\n",
      "R2 score: 0.72\n",
      "==================================================\n",
      "Test Score\n",
      "MAE: 2692.27\n",
      "RMSE: 3621.39\n",
      "R2 score: 0.71\n"
     ]
    }
   ],
   "source": [
    "from sklearn.linear_model import Ridge\n",
    "ridge = Ridge()\n",
    "ridge.fit(X_train, y_train)\n",
    "\n",
    "evaluation(ridge)"
   ]
  },
  {
   "cell_type": "markdown",
   "metadata": {},
   "source": [
    "# 9. Decision Tree"
   ]
  },
  {
   "cell_type": "code",
   "execution_count": 63,
   "metadata": {
    "ExecuteTime": {
     "end_time": "2022-06-02T11:04:09.145937Z",
     "start_time": "2022-06-02T11:04:01.759254Z"
    }
   },
   "outputs": [
    {
     "name": "stdout",
     "output_type": "stream",
     "text": [
      "Train Score\n",
      "MAE: 0.15\n",
      "RMSE: 23.75\n",
      "R2 score: 1.00\n",
      "==================================================\n",
      "Test Score\n",
      "MAE: 2219.68\n",
      "RMSE: 3381.56\n",
      "R2 score: 0.81\n"
     ]
    }
   ],
   "source": [
    "from sklearn.tree import DecisionTreeRegressor\n",
    "\n",
    "dt = DecisionTreeRegressor()\n",
    "dt.fit(X_train, y_train)\n",
    "\n",
    "evaluation(dt)"
   ]
  },
  {
   "cell_type": "code",
   "execution_count": 64,
   "metadata": {
    "ExecuteTime": {
     "end_time": "2022-06-02T11:04:09.372340Z",
     "start_time": "2022-06-02T11:04:09.147905Z"
    }
   },
   "outputs": [
    {
     "data": {
      "image/png": "[encoded data removed]",
      "text/plain": [
       "<Figure size 720x576 with 1 Axes>"
      ]
     },
     "metadata": {
      "needs_background": "light"
     },
     "output_type": "display_data"
    }
   ],
   "source": [
    "show_feature_importance(dt)"
   ]
  },
  {
   "cell_type": "markdown",
   "metadata": {},
   "source": [
    "# 10. Adaboost"
   ]
  },
  {
   "cell_type": "code",
   "execution_count": 65,
   "metadata": {
    "ExecuteTime": {
     "end_time": "2022-06-02T11:05:49.833607Z",
     "start_time": "2022-06-02T11:04:17.415378Z"
    }
   },
   "outputs": [
    {
     "name": "stdout",
     "output_type": "stream",
     "text": [
      "Train Score\n",
      "MAE: 5022.14\n",
      "RMSE: 5850.67\n",
      "R2 score: -0.20\n",
      "==================================================\n",
      "Test Score\n",
      "MAE: 5020.61\n",
      "RMSE: 5850.15\n",
      "R2 score: -0.20\n"
     ]
    }
   ],
   "source": [
    "from sklearn.ensemble import AdaBoostRegressor\n",
    "\n",
    "ada = AdaBoostRegressor(random_state=42)\n",
    "ada.fit(X_train, y_train)\n",
    "\n",
    "evaluation(ada)"
   ]
  },
  {
   "cell_type": "markdown",
   "metadata": {},
   "source": [
    "# 11. LGBM"
   ]
  },
  {
   "cell_type": "code",
   "execution_count": 66,
   "metadata": {
    "ExecuteTime": {
     "end_time": "2022-06-02T11:06:00.492875Z",
     "start_time": "2022-06-02T11:05:49.835602Z"
    }
   },
   "outputs": [
    {
     "name": "stderr",
     "output_type": "stream",
     "text": [
      "C:\\Users\\USER\\anaconda3\\lib\\site-packages\\dask\\dataframe\\utils.py:366: FutureWarning: pandas.Int64Index is deprecated and will be removed from pandas in a future version. Use pandas.Index with the appropriate dtype instead.\n",
      "  _numeric_index_types = (pd.Int64Index, pd.Float64Index, pd.UInt64Index)\n",
      "C:\\Users\\USER\\anaconda3\\lib\\site-packages\\dask\\dataframe\\utils.py:366: FutureWarning: pandas.Float64Index is deprecated and will be removed from pandas in a future version. Use pandas.Index with the appropriate dtype instead.\n",
      "  _numeric_index_types = (pd.Int64Index, pd.Float64Index, pd.UInt64Index)\n",
      "C:\\Users\\USER\\anaconda3\\lib\\site-packages\\dask\\dataframe\\utils.py:366: FutureWarning: pandas.UInt64Index is deprecated and will be removed from pandas in a future version. Use pandas.Index with the appropriate dtype instead.\n",
      "  _numeric_index_types = (pd.Int64Index, pd.Float64Index, pd.UInt64Index)\n"
     ]
    },
    {
     "name": "stdout",
     "output_type": "stream",
     "text": [
      "Train Score\n",
      "MAE: 1736.15\n",
      "RMSE: 2504.31\n",
      "R2 score: 0.88\n",
      "==================================================\n",
      "Test Score\n",
      "MAE: 1760.96\n",
      "RMSE: 2548.60\n",
      "R2 score: 0.87\n"
     ]
    }
   ],
   "source": [
    "from lightgbm import LGBMRegressor\n",
    "lgbm = LGBMRegressor(n_estimators=198)\n",
    "lgbm.fit(X_train, y_train)\n",
    "\n",
    "\n",
    "evaluation(lgbm)"
   ]
  },
  {
   "cell_type": "code",
   "execution_count": 67,
   "metadata": {
    "ExecuteTime": {
     "end_time": "2022-06-02T11:06:00.724256Z",
     "start_time": "2022-06-02T11:06:00.494870Z"
    }
   },
   "outputs": [
    {
     "data": {
      "image/png": "[encoded data removed]",
      "text/plain": [
       "<Figure size 720x576 with 1 Axes>"
      ]
     },
     "metadata": {
      "needs_background": "light"
     },
     "output_type": "display_data"
    }
   ],
   "source": [
    "show_feature_importance(lgbm)"
   ]
  },
  {
   "cell_type": "markdown",
   "metadata": {},
   "source": [
    "# 12. Hyperparamater Tuning"
   ]
  },
  {
   "cell_type": "markdown",
   "metadata": {},
   "source": [
    "## a) LGBM"
   ]
  },
  {
   "cell_type": "markdown",
   "metadata": {},
   "source": [
    "## Comparing the result"
   ]
  },
  {
   "cell_type": "code",
   "execution_count": 70,
   "metadata": {
    "ExecuteTime": {
     "end_time": "2022-06-02T11:18:32.693039Z",
     "start_time": "2022-06-02T11:13:03.438332Z"
    },
    "scrolled": true
   },
   "outputs": [
    {
     "name": "stdout",
     "output_type": "stream",
     "text": [
      "[LightGBM] [Warning] min_data_in_leaf is set=10, min_child_samples=20 will be ignored. Current value: min_data_in_leaf=10\n",
      "[LightGBM] [Warning] min_sum_hessian_in_leaf is set=10, min_child_weight=0.001 will be ignored. Current value: min_sum_hessian_in_leaf=10\n",
      "[LightGBM] [Warning] min_data_in_leaf is set=10, min_child_samples=20 will be ignored. Current value: min_data_in_leaf=10\n",
      "[LightGBM] [Warning] min_sum_hessian_in_leaf is set=10, min_child_weight=0.001 will be ignored. Current value: min_sum_hessian_in_leaf=10\n",
      "[LightGBM] [Warning] min_data_in_leaf is set=10, min_child_samples=20 will be ignored. Current value: min_data_in_leaf=10\n",
      "[LightGBM] [Warning] min_sum_hessian_in_leaf is set=10, min_child_weight=0.001 will be ignored. Current value: min_sum_hessian_in_leaf=10\n",
      "[LightGBM] [Warning] min_data_in_leaf is set=10, min_child_samples=20 will be ignored. Current value: min_data_in_leaf=10\n",
      "[LightGBM] [Warning] min_sum_hessian_in_leaf is set=10, min_child_weight=0.001 will be ignored. Current value: min_sum_hessian_in_leaf=10\n",
      "[LightGBM] [Warning] min_data_in_leaf is set=10, min_child_samples=20 will be ignored. Current value: min_data_in_leaf=10\n",
      "[LightGBM] [Warning] min_sum_hessian_in_leaf is set=10, min_child_weight=0.001 will be ignored. Current value: min_sum_hessian_in_leaf=10\n",
      "[LightGBM] [Warning] min_data_in_leaf is set=20, min_child_samples=20 will be ignored. Current value: min_data_in_leaf=20\n",
      "[LightGBM] [Warning] min_sum_hessian_in_leaf is set=1, min_child_weight=0.001 will be ignored. Current value: min_sum_hessian_in_leaf=1\n",
      "[LightGBM] [Warning] min_data_in_leaf is set=20, min_child_samples=20 will be ignored. Current value: min_data_in_leaf=20\n",
      "[LightGBM] [Warning] min_sum_hessian_in_leaf is set=1, min_child_weight=0.001 will be ignored. Current value: min_sum_hessian_in_leaf=1\n",
      "[LightGBM] [Warning] min_data_in_leaf is set=20, min_child_samples=20 will be ignored. Current value: min_data_in_leaf=20\n",
      "[LightGBM] [Warning] min_sum_hessian_in_leaf is set=1, min_child_weight=0.001 will be ignored. Current value: min_sum_hessian_in_leaf=1\n",
      "[LightGBM] [Warning] min_data_in_leaf is set=20, min_child_samples=20 will be ignored. Current value: min_data_in_leaf=20\n",
      "[LightGBM] [Warning] min_sum_hessian_in_leaf is set=1, min_child_weight=0.001 will be ignored. Current value: min_sum_hessian_in_leaf=1\n",
      "[LightGBM] [Warning] min_data_in_leaf is set=20, min_child_samples=20 will be ignored. Current value: min_data_in_leaf=20\n",
      "[LightGBM] [Warning] min_sum_hessian_in_leaf is set=1, min_child_weight=0.001 will be ignored. Current value: min_sum_hessian_in_leaf=1\n",
      "[LightGBM] [Warning] min_data_in_leaf is set=10, min_child_samples=20 will be ignored. Current value: min_data_in_leaf=10\n",
      "[LightGBM] [Warning] min_sum_hessian_in_leaf is set=100, min_child_weight=0.001 will be ignored. Current value: min_sum_hessian_in_leaf=100\n",
      "[LightGBM] [Warning] min_data_in_leaf is set=10, min_child_samples=20 will be ignored. Current value: min_data_in_leaf=10\n",
      "[LightGBM] [Warning] min_sum_hessian_in_leaf is set=100, min_child_weight=0.001 will be ignored. Current value: min_sum_hessian_in_leaf=100\n"
     ]
    },
    {
     "name": "stderr",
     "output_type": "stream",
     "text": [
      "C:\\Users\\USER\\anaconda3\\lib\\site-packages\\sklearn\\model_selection\\_validation.py:548: FitFailedWarning: Estimator fit failed. The score on this train-test partition for these parameters will be set to nan. Details: \n",
      "Traceback (most recent call last):\n",
      "  File \"C:\\Users\\USER\\anaconda3\\lib\\site-packages\\sklearn\\model_selection\\_validation.py\", line 531, in _fit_and_score\n",
      "    estimator.fit(X_train, y_train, **fit_params)\n",
      "  File \"C:\\Users\\USER\\anaconda3\\lib\\site-packages\\lightgbm\\sklearn.py\", line 895, in fit\n",
      "    super().fit(X, y, sample_weight=sample_weight, init_score=init_score,\n",
      "  File \"C:\\Users\\USER\\anaconda3\\lib\\site-packages\\lightgbm\\sklearn.py\", line 748, in fit\n",
      "    self._Booster = train(\n",
      "  File \"C:\\Users\\USER\\anaconda3\\lib\\site-packages\\lightgbm\\engine.py\", line 271, in train\n",
      "    booster = Booster(params=params, train_set=train_set)\n",
      "  File \"C:\\Users\\USER\\anaconda3\\lib\\site-packages\\lightgbm\\basic.py\", line 2605, in __init__\n",
      "    train_set.construct()\n",
      "  File \"C:\\Users\\USER\\anaconda3\\lib\\site-packages\\lightgbm\\basic.py\", line 1815, in construct\n",
      "    self._lazy_init(self.data, label=self.label,\n",
      "  File \"C:\\Users\\USER\\anaconda3\\lib\\site-packages\\lightgbm\\basic.py\", line 1538, in _lazy_init\n",
      "    self.__init_from_np2d(data, params_str, ref_dataset)\n",
      "  File \"C:\\Users\\USER\\anaconda3\\lib\\site-packages\\lightgbm\\basic.py\", line 1659, in __init_from_np2d\n",
      "    _safe_call(_LIB.LGBM_DatasetCreateFromMat(\n",
      "  File \"C:\\Users\\USER\\anaconda3\\lib\\site-packages\\lightgbm\\basic.py\", line 125, in _safe_call\n",
      "    raise LightGBMError(_LIB.LGBM_GetLastError().decode('utf-8'))\n",
      "lightgbm.basic.LightGBMError: Check failed: (learning_rate) > (0.0) at D:\\a\\1\\s\\python-package\\compile\\src\\io\\config_auto.cpp, line 331 .\n",
      "\n",
      "\n",
      "  warnings.warn(\"Estimator fit failed. The score on this train-test\"\n",
      "C:\\Users\\USER\\anaconda3\\lib\\site-packages\\sklearn\\model_selection\\_validation.py:548: FitFailedWarning: Estimator fit failed. The score on this train-test partition for these parameters will be set to nan. Details: \n",
      "Traceback (most recent call last):\n",
      "  File \"C:\\Users\\USER\\anaconda3\\lib\\site-packages\\sklearn\\model_selection\\_validation.py\", line 531, in _fit_and_score\n",
      "    estimator.fit(X_train, y_train, **fit_params)\n",
      "  File \"C:\\Users\\USER\\anaconda3\\lib\\site-packages\\lightgbm\\sklearn.py\", line 895, in fit\n",
      "    super().fit(X, y, sample_weight=sample_weight, init_score=init_score,\n",
      "  File \"C:\\Users\\USER\\anaconda3\\lib\\site-packages\\lightgbm\\sklearn.py\", line 748, in fit\n",
      "    self._Booster = train(\n",
      "  File \"C:\\Users\\USER\\anaconda3\\lib\\site-packages\\lightgbm\\engine.py\", line 271, in train\n",
      "    booster = Booster(params=params, train_set=train_set)\n",
      "  File \"C:\\Users\\USER\\anaconda3\\lib\\site-packages\\lightgbm\\basic.py\", line 2605, in __init__\n",
      "    train_set.construct()\n",
      "  File \"C:\\Users\\USER\\anaconda3\\lib\\site-packages\\lightgbm\\basic.py\", line 1815, in construct\n",
      "    self._lazy_init(self.data, label=self.label,\n",
      "  File \"C:\\Users\\USER\\anaconda3\\lib\\site-packages\\lightgbm\\basic.py\", line 1538, in _lazy_init\n",
      "    self.__init_from_np2d(data, params_str, ref_dataset)\n",
      "  File \"C:\\Users\\USER\\anaconda3\\lib\\site-packages\\lightgbm\\basic.py\", line 1659, in __init_from_np2d\n",
      "    _safe_call(_LIB.LGBM_DatasetCreateFromMat(\n",
      "  File \"C:\\Users\\USER\\anaconda3\\lib\\site-packages\\lightgbm\\basic.py\", line 125, in _safe_call\n",
      "    raise LightGBMError(_LIB.LGBM_GetLastError().decode('utf-8'))\n",
      "lightgbm.basic.LightGBMError: Check failed: (learning_rate) > (0.0) at D:\\a\\1\\s\\python-package\\compile\\src\\io\\config_auto.cpp, line 331 .\n",
      "\n",
      "\n",
      "  warnings.warn(\"Estimator fit failed. The score on this train-test\"\n"
     ]
    },
    {
     "name": "stdout",
     "output_type": "stream",
     "text": [
      "[LightGBM] [Warning] min_data_in_leaf is set=10, min_child_samples=20 will be ignored. Current value: min_data_in_leaf=10\n",
      "[LightGBM] [Warning] min_sum_hessian_in_leaf is set=100, min_child_weight=0.001 will be ignored. Current value: min_sum_hessian_in_leaf=100\n",
      "[LightGBM] [Warning] min_data_in_leaf is set=10, min_child_samples=20 will be ignored. Current value: min_data_in_leaf=10\n",
      "[LightGBM] [Warning] min_sum_hessian_in_leaf is set=100, min_child_weight=0.001 will be ignored. Current value: min_sum_hessian_in_leaf=100\n"
     ]
    },
    {
     "name": "stderr",
     "output_type": "stream",
     "text": [
      "C:\\Users\\USER\\anaconda3\\lib\\site-packages\\sklearn\\model_selection\\_validation.py:548: FitFailedWarning: Estimator fit failed. The score on this train-test partition for these parameters will be set to nan. Details: \n",
      "Traceback (most recent call last):\n",
      "  File \"C:\\Users\\USER\\anaconda3\\lib\\site-packages\\sklearn\\model_selection\\_validation.py\", line 531, in _fit_and_score\n",
      "    estimator.fit(X_train, y_train, **fit_params)\n",
      "  File \"C:\\Users\\USER\\anaconda3\\lib\\site-packages\\lightgbm\\sklearn.py\", line 895, in fit\n",
      "    super().fit(X, y, sample_weight=sample_weight, init_score=init_score,\n",
      "  File \"C:\\Users\\USER\\anaconda3\\lib\\site-packages\\lightgbm\\sklearn.py\", line 748, in fit\n",
      "    self._Booster = train(\n",
      "  File \"C:\\Users\\USER\\anaconda3\\lib\\site-packages\\lightgbm\\engine.py\", line 271, in train\n",
      "    booster = Booster(params=params, train_set=train_set)\n",
      "  File \"C:\\Users\\USER\\anaconda3\\lib\\site-packages\\lightgbm\\basic.py\", line 2605, in __init__\n",
      "    train_set.construct()\n",
      "  File \"C:\\Users\\USER\\anaconda3\\lib\\site-packages\\lightgbm\\basic.py\", line 1815, in construct\n",
      "    self._lazy_init(self.data, label=self.label,\n",
      "  File \"C:\\Users\\USER\\anaconda3\\lib\\site-packages\\lightgbm\\basic.py\", line 1538, in _lazy_init\n",
      "    self.__init_from_np2d(data, params_str, ref_dataset)\n",
      "  File \"C:\\Users\\USER\\anaconda3\\lib\\site-packages\\lightgbm\\basic.py\", line 1659, in __init_from_np2d\n",
      "    _safe_call(_LIB.LGBM_DatasetCreateFromMat(\n",
      "  File \"C:\\Users\\USER\\anaconda3\\lib\\site-packages\\lightgbm\\basic.py\", line 125, in _safe_call\n",
      "    raise LightGBMError(_LIB.LGBM_GetLastError().decode('utf-8'))\n",
      "lightgbm.basic.LightGBMError: Check failed: (learning_rate) > (0.0) at D:\\a\\1\\s\\python-package\\compile\\src\\io\\config_auto.cpp, line 331 .\n",
      "\n",
      "\n",
      "  warnings.warn(\"Estimator fit failed. The score on this train-test\"\n",
      "C:\\Users\\USER\\anaconda3\\lib\\site-packages\\sklearn\\model_selection\\_validation.py:548: FitFailedWarning: Estimator fit failed. The score on this train-test partition for these parameters will be set to nan. Details: \n",
      "Traceback (most recent call last):\n",
      "  File \"C:\\Users\\USER\\anaconda3\\lib\\site-packages\\sklearn\\model_selection\\_validation.py\", line 531, in _fit_and_score\n",
      "    estimator.fit(X_train, y_train, **fit_params)\n",
      "  File \"C:\\Users\\USER\\anaconda3\\lib\\site-packages\\lightgbm\\sklearn.py\", line 895, in fit\n",
      "    super().fit(X, y, sample_weight=sample_weight, init_score=init_score,\n",
      "  File \"C:\\Users\\USER\\anaconda3\\lib\\site-packages\\lightgbm\\sklearn.py\", line 748, in fit\n",
      "    self._Booster = train(\n",
      "  File \"C:\\Users\\USER\\anaconda3\\lib\\site-packages\\lightgbm\\engine.py\", line 271, in train\n",
      "    booster = Booster(params=params, train_set=train_set)\n",
      "  File \"C:\\Users\\USER\\anaconda3\\lib\\site-packages\\lightgbm\\basic.py\", line 2605, in __init__\n",
      "    train_set.construct()\n",
      "  File \"C:\\Users\\USER\\anaconda3\\lib\\site-packages\\lightgbm\\basic.py\", line 1815, in construct\n",
      "    self._lazy_init(self.data, label=self.label,\n",
      "  File \"C:\\Users\\USER\\anaconda3\\lib\\site-packages\\lightgbm\\basic.py\", line 1538, in _lazy_init\n",
      "    self.__init_from_np2d(data, params_str, ref_dataset)\n",
      "  File \"C:\\Users\\USER\\anaconda3\\lib\\site-packages\\lightgbm\\basic.py\", line 1659, in __init_from_np2d\n",
      "    _safe_call(_LIB.LGBM_DatasetCreateFromMat(\n",
      "  File \"C:\\Users\\USER\\anaconda3\\lib\\site-packages\\lightgbm\\basic.py\", line 125, in _safe_call\n",
      "    raise LightGBMError(_LIB.LGBM_GetLastError().decode('utf-8'))\n",
      "lightgbm.basic.LightGBMError: Check failed: (learning_rate) > (0.0) at D:\\a\\1\\s\\python-package\\compile\\src\\io\\config_auto.cpp, line 331 .\n",
      "\n",
      "\n",
      "  warnings.warn(\"Estimator fit failed. The score on this train-test\"\n"
     ]
    },
    {
     "name": "stdout",
     "output_type": "stream",
     "text": [
      "[LightGBM] [Warning] min_data_in_leaf is set=10, min_child_samples=20 will be ignored. Current value: min_data_in_leaf=10\n",
      "[LightGBM] [Warning] min_sum_hessian_in_leaf is set=100, min_child_weight=0.001 will be ignored. Current value: min_sum_hessian_in_leaf=100\n",
      "[LightGBM] [Warning] min_data_in_leaf is set=5, min_child_samples=20 will be ignored. Current value: min_data_in_leaf=5\n",
      "[LightGBM] [Warning] min_sum_hessian_in_leaf is set=100, min_child_weight=0.001 will be ignored. Current value: min_sum_hessian_in_leaf=100\n"
     ]
    },
    {
     "name": "stderr",
     "output_type": "stream",
     "text": [
      "C:\\Users\\USER\\anaconda3\\lib\\site-packages\\sklearn\\model_selection\\_validation.py:548: FitFailedWarning: Estimator fit failed. The score on this train-test partition for these parameters will be set to nan. Details: \n",
      "Traceback (most recent call last):\n",
      "  File \"C:\\Users\\USER\\anaconda3\\lib\\site-packages\\sklearn\\model_selection\\_validation.py\", line 531, in _fit_and_score\n",
      "    estimator.fit(X_train, y_train, **fit_params)\n",
      "  File \"C:\\Users\\USER\\anaconda3\\lib\\site-packages\\lightgbm\\sklearn.py\", line 895, in fit\n",
      "    super().fit(X, y, sample_weight=sample_weight, init_score=init_score,\n",
      "  File \"C:\\Users\\USER\\anaconda3\\lib\\site-packages\\lightgbm\\sklearn.py\", line 748, in fit\n",
      "    self._Booster = train(\n",
      "  File \"C:\\Users\\USER\\anaconda3\\lib\\site-packages\\lightgbm\\engine.py\", line 271, in train\n",
      "    booster = Booster(params=params, train_set=train_set)\n",
      "  File \"C:\\Users\\USER\\anaconda3\\lib\\site-packages\\lightgbm\\basic.py\", line 2605, in __init__\n",
      "    train_set.construct()\n",
      "  File \"C:\\Users\\USER\\anaconda3\\lib\\site-packages\\lightgbm\\basic.py\", line 1815, in construct\n",
      "    self._lazy_init(self.data, label=self.label,\n",
      "  File \"C:\\Users\\USER\\anaconda3\\lib\\site-packages\\lightgbm\\basic.py\", line 1538, in _lazy_init\n",
      "    self.__init_from_np2d(data, params_str, ref_dataset)\n",
      "  File \"C:\\Users\\USER\\anaconda3\\lib\\site-packages\\lightgbm\\basic.py\", line 1659, in __init_from_np2d\n",
      "    _safe_call(_LIB.LGBM_DatasetCreateFromMat(\n",
      "  File \"C:\\Users\\USER\\anaconda3\\lib\\site-packages\\lightgbm\\basic.py\", line 125, in _safe_call\n",
      "    raise LightGBMError(_LIB.LGBM_GetLastError().decode('utf-8'))\n",
      "lightgbm.basic.LightGBMError: Check failed: (learning_rate) > (0.0) at D:\\a\\1\\s\\python-package\\compile\\src\\io\\config_auto.cpp, line 331 .\n",
      "\n",
      "\n",
      "  warnings.warn(\"Estimator fit failed. The score on this train-test\"\n"
     ]
    },
    {
     "name": "stdout",
     "output_type": "stream",
     "text": [
      "[LightGBM] [Warning] min_data_in_leaf is set=5, min_child_samples=20 will be ignored. Current value: min_data_in_leaf=5\n",
      "[LightGBM] [Warning] min_sum_hessian_in_leaf is set=100, min_child_weight=0.001 will be ignored. Current value: min_sum_hessian_in_leaf=100\n",
      "[LightGBM] [Warning] min_data_in_leaf is set=5, min_child_samples=20 will be ignored. Current value: min_data_in_leaf=5\n",
      "[LightGBM] [Warning] min_sum_hessian_in_leaf is set=100, min_child_weight=0.001 will be ignored. Current value: min_sum_hessian_in_leaf=100\n",
      "[LightGBM] [Warning] min_data_in_leaf is set=5, min_child_samples=20 will be ignored. Current value: min_data_in_leaf=5\n",
      "[LightGBM] [Warning] min_sum_hessian_in_leaf is set=100, min_child_weight=0.001 will be ignored. Current value: min_sum_hessian_in_leaf=100\n",
      "[LightGBM] [Warning] min_data_in_leaf is set=5, min_child_samples=20 will be ignored. Current value: min_data_in_leaf=5\n",
      "[LightGBM] [Warning] min_sum_hessian_in_leaf is set=100, min_child_weight=0.001 will be ignored. Current value: min_sum_hessian_in_leaf=100\n",
      "[LightGBM] [Warning] min_data_in_leaf is set=5, min_child_samples=20 will be ignored. Current value: min_data_in_leaf=5\n",
      "[LightGBM] [Warning] min_sum_hessian_in_leaf is set=50, min_child_weight=0.001 will be ignored. Current value: min_sum_hessian_in_leaf=50\n",
      "[LightGBM] [Warning] min_data_in_leaf is set=5, min_child_samples=20 will be ignored. Current value: min_data_in_leaf=5\n",
      "[LightGBM] [Warning] min_sum_hessian_in_leaf is set=50, min_child_weight=0.001 will be ignored. Current value: min_sum_hessian_in_leaf=50\n",
      "[LightGBM] [Warning] min_data_in_leaf is set=5, min_child_samples=20 will be ignored. Current value: min_data_in_leaf=5\n",
      "[LightGBM] [Warning] min_sum_hessian_in_leaf is set=50, min_child_weight=0.001 will be ignored. Current value: min_sum_hessian_in_leaf=50\n",
      "[LightGBM] [Warning] min_data_in_leaf is set=5, min_child_samples=20 will be ignored. Current value: min_data_in_leaf=5\n",
      "[LightGBM] [Warning] min_sum_hessian_in_leaf is set=50, min_child_weight=0.001 will be ignored. Current value: min_sum_hessian_in_leaf=50\n",
      "[LightGBM] [Warning] min_data_in_leaf is set=5, min_child_samples=20 will be ignored. Current value: min_data_in_leaf=5\n",
      "[LightGBM] [Warning] min_sum_hessian_in_leaf is set=50, min_child_weight=0.001 will be ignored. Current value: min_sum_hessian_in_leaf=50\n",
      "[LightGBM] [Warning] min_data_in_leaf is set=20, min_child_samples=20 will be ignored. Current value: min_data_in_leaf=20\n",
      "[LightGBM] [Warning] min_sum_hessian_in_leaf is set=100, min_child_weight=0.001 will be ignored. Current value: min_sum_hessian_in_leaf=100\n",
      "[LightGBM] [Warning] min_data_in_leaf is set=20, min_child_samples=20 will be ignored. Current value: min_data_in_leaf=20\n",
      "[LightGBM] [Warning] min_sum_hessian_in_leaf is set=100, min_child_weight=0.001 will be ignored. Current value: min_sum_hessian_in_leaf=100\n",
      "[LightGBM] [Warning] min_data_in_leaf is set=20, min_child_samples=20 will be ignored. Current value: min_data_in_leaf=20\n",
      "[LightGBM] [Warning] min_sum_hessian_in_leaf is set=100, min_child_weight=0.001 will be ignored. Current value: min_sum_hessian_in_leaf=100\n",
      "[LightGBM] [Warning] min_data_in_leaf is set=20, min_child_samples=20 will be ignored. Current value: min_data_in_leaf=20\n",
      "[LightGBM] [Warning] min_sum_hessian_in_leaf is set=100, min_child_weight=0.001 will be ignored. Current value: min_sum_hessian_in_leaf=100\n",
      "[LightGBM] [Warning] min_data_in_leaf is set=20, min_child_samples=20 will be ignored. Current value: min_data_in_leaf=20\n",
      "[LightGBM] [Warning] min_sum_hessian_in_leaf is set=100, min_child_weight=0.001 will be ignored. Current value: min_sum_hessian_in_leaf=100\n",
      "[LightGBM] [Warning] min_data_in_leaf is set=10, min_child_samples=20 will be ignored. Current value: min_data_in_leaf=10\n",
      "[LightGBM] [Warning] min_sum_hessian_in_leaf is set=100, min_child_weight=0.001 will be ignored. Current value: min_sum_hessian_in_leaf=100\n",
      "[LightGBM] [Warning] min_data_in_leaf is set=10, min_child_samples=20 will be ignored. Current value: min_data_in_leaf=10\n",
      "[LightGBM] [Warning] min_sum_hessian_in_leaf is set=100, min_child_weight=0.001 will be ignored. Current value: min_sum_hessian_in_leaf=100\n",
      "[LightGBM] [Warning] min_data_in_leaf is set=10, min_child_samples=20 will be ignored. Current value: min_data_in_leaf=10\n",
      "[LightGBM] [Warning] min_sum_hessian_in_leaf is set=100, min_child_weight=0.001 will be ignored. Current value: min_sum_hessian_in_leaf=100\n",
      "[LightGBM] [Warning] min_data_in_leaf is set=10, min_child_samples=20 will be ignored. Current value: min_data_in_leaf=10\n",
      "[LightGBM] [Warning] min_sum_hessian_in_leaf is set=100, min_child_weight=0.001 will be ignored. Current value: min_sum_hessian_in_leaf=100\n",
      "[LightGBM] [Warning] min_data_in_leaf is set=10, min_child_samples=20 will be ignored. Current value: min_data_in_leaf=10\n",
      "[LightGBM] [Warning] min_sum_hessian_in_leaf is set=100, min_child_weight=0.001 will be ignored. Current value: min_sum_hessian_in_leaf=100\n",
      "[LightGBM] [Warning] min_data_in_leaf is set=10, min_child_samples=20 will be ignored. Current value: min_data_in_leaf=10\n",
      "[LightGBM] [Warning] min_sum_hessian_in_leaf is set=1, min_child_weight=0.001 will be ignored. Current value: min_sum_hessian_in_leaf=1\n",
      "[LightGBM] [Warning] min_data_in_leaf is set=10, min_child_samples=20 will be ignored. Current value: min_data_in_leaf=10"
     ]
    },
    {
     "name": "stderr",
     "output_type": "stream",
     "text": [
      "C:\\Users\\USER\\anaconda3\\lib\\site-packages\\sklearn\\model_selection\\_validation.py:548: FitFailedWarning: Estimator fit failed. The score on this train-test partition for these parameters will be set to nan. Details: \n",
      "Traceback (most recent call last):\n",
      "  File \"C:\\Users\\USER\\anaconda3\\lib\\site-packages\\sklearn\\model_selection\\_validation.py\", line 531, in _fit_and_score\n",
      "    estimator.fit(X_train, y_train, **fit_params)\n",
      "  File \"C:\\Users\\USER\\anaconda3\\lib\\site-packages\\lightgbm\\sklearn.py\", line 895, in fit\n",
      "    super().fit(X, y, sample_weight=sample_weight, init_score=init_score,\n",
      "  File \"C:\\Users\\USER\\anaconda3\\lib\\site-packages\\lightgbm\\sklearn.py\", line 748, in fit\n",
      "    self._Booster = train(\n",
      "  File \"C:\\Users\\USER\\anaconda3\\lib\\site-packages\\lightgbm\\engine.py\", line 271, in train\n",
      "    booster = Booster(params=params, train_set=train_set)\n",
      "  File \"C:\\Users\\USER\\anaconda3\\lib\\site-packages\\lightgbm\\basic.py\", line 2605, in __init__\n",
      "    train_set.construct()\n",
      "  File \"C:\\Users\\USER\\anaconda3\\lib\\site-packages\\lightgbm\\basic.py\", line 1815, in construct\n",
      "    self._lazy_init(self.data, label=self.label,\n",
      "  File \"C:\\Users\\USER\\anaconda3\\lib\\site-packages\\lightgbm\\basic.py\", line 1538, in _lazy_init\n",
      "    self.__init_from_np2d(data, params_str, ref_dataset)\n",
      "  File \"C:\\Users\\USER\\anaconda3\\lib\\site-packages\\lightgbm\\basic.py\", line 1659, in __init_from_np2d\n",
      "    _safe_call(_LIB.LGBM_DatasetCreateFromMat(\n",
      "  File \"C:\\Users\\USER\\anaconda3\\lib\\site-packages\\lightgbm\\basic.py\", line 125, in _safe_call\n",
      "    raise LightGBMError(_LIB.LGBM_GetLastError().decode('utf-8'))\n",
      "lightgbm.basic.LightGBMError: Check failed: (learning_rate) > (0.0) at D:\\a\\1\\s\\python-package\\compile\\src\\io\\config_auto.cpp, line 331 .\n",
      "\n",
      "\n",
      "  warnings.warn(\"Estimator fit failed. The score on this train-test\"\n",
      "C:\\Users\\USER\\anaconda3\\lib\\site-packages\\sklearn\\model_selection\\_validation.py:548: FitFailedWarning: Estimator fit failed. The score on this train-test partition for these parameters will be set to nan. Details: \n",
      "Traceback (most recent call last):\n",
      "  File \"C:\\Users\\USER\\anaconda3\\lib\\site-packages\\sklearn\\model_selection\\_validation.py\", line 531, in _fit_and_score\n",
      "    estimator.fit(X_train, y_train, **fit_params)\n",
      "  File \"C:\\Users\\USER\\anaconda3\\lib\\site-packages\\lightgbm\\sklearn.py\", line 895, in fit\n",
      "    super().fit(X, y, sample_weight=sample_weight, init_score=init_score,\n",
      "  File \"C:\\Users\\USER\\anaconda3\\lib\\site-packages\\lightgbm\\sklearn.py\", line 748, in fit\n",
      "    self._Booster = train(\n",
      "  File \"C:\\Users\\USER\\anaconda3\\lib\\site-packages\\lightgbm\\engine.py\", line 271, in train\n",
      "    booster = Booster(params=params, train_set=train_set)\n",
      "  File \"C:\\Users\\USER\\anaconda3\\lib\\site-packages\\lightgbm\\basic.py\", line 2605, in __init__\n",
      "    train_set.construct()\n",
      "  File \"C:\\Users\\USER\\anaconda3\\lib\\site-packages\\lightgbm\\basic.py\", line 1815, in construct\n",
      "    self._lazy_init(self.data, label=self.label,\n",
      "  File \"C:\\Users\\USER\\anaconda3\\lib\\site-packages\\lightgbm\\basic.py\", line 1538, in _lazy_init\n",
      "    self.__init_from_np2d(data, params_str, ref_dataset)\n",
      "  File \"C:\\Users\\USER\\anaconda3\\lib\\site-packages\\lightgbm\\basic.py\", line 1659, in __init_from_np2d\n",
      "    _safe_call(_LIB.LGBM_DatasetCreateFromMat(\n",
      "  File \"C:\\Users\\USER\\anaconda3\\lib\\site-packages\\lightgbm\\basic.py\", line 125, in _safe_call\n",
      "    raise LightGBMError(_LIB.LGBM_GetLastError().decode('utf-8'))\n",
      "lightgbm.basic.LightGBMError: Check failed: (learning_rate) > (0.0) at D:\\a\\1\\s\\python-package\\compile\\src\\io\\config_auto.cpp, line 331 .\n",
      "\n",
      "\n",
      "  warnings.warn(\"Estimator fit failed. The score on this train-test\"\n"
     ]
    },
    {
     "name": "stdout",
     "output_type": "stream",
     "text": [
      "\n",
      "[LightGBM] [Warning] min_sum_hessian_in_leaf is set=1, min_child_weight=0.001 will be ignored. Current value: min_sum_hessian_in_leaf=1\n",
      "[LightGBM] [Warning] min_data_in_leaf is set=10, min_child_samples=20 will be ignored. Current value: min_data_in_leaf=10\n",
      "[LightGBM] [Warning] min_sum_hessian_in_leaf is set=1, min_child_weight=0.001 will be ignored. Current value: min_sum_hessian_in_leaf=1\n"
     ]
    },
    {
     "name": "stderr",
     "output_type": "stream",
     "text": [
      "C:\\Users\\USER\\anaconda3\\lib\\site-packages\\sklearn\\model_selection\\_validation.py:548: FitFailedWarning: Estimator fit failed. The score on this train-test partition for these parameters will be set to nan. Details: \n",
      "Traceback (most recent call last):\n",
      "  File \"C:\\Users\\USER\\anaconda3\\lib\\site-packages\\sklearn\\model_selection\\_validation.py\", line 531, in _fit_and_score\n",
      "    estimator.fit(X_train, y_train, **fit_params)\n",
      "  File \"C:\\Users\\USER\\anaconda3\\lib\\site-packages\\lightgbm\\sklearn.py\", line 895, in fit\n",
      "    super().fit(X, y, sample_weight=sample_weight, init_score=init_score,\n",
      "  File \"C:\\Users\\USER\\anaconda3\\lib\\site-packages\\lightgbm\\sklearn.py\", line 748, in fit\n",
      "    self._Booster = train(\n",
      "  File \"C:\\Users\\USER\\anaconda3\\lib\\site-packages\\lightgbm\\engine.py\", line 271, in train\n",
      "    booster = Booster(params=params, train_set=train_set)\n",
      "  File \"C:\\Users\\USER\\anaconda3\\lib\\site-packages\\lightgbm\\basic.py\", line 2605, in __init__\n",
      "    train_set.construct()\n",
      "  File \"C:\\Users\\USER\\anaconda3\\lib\\site-packages\\lightgbm\\basic.py\", line 1815, in construct\n",
      "    self._lazy_init(self.data, label=self.label,\n",
      "  File \"C:\\Users\\USER\\anaconda3\\lib\\site-packages\\lightgbm\\basic.py\", line 1538, in _lazy_init\n",
      "    self.__init_from_np2d(data, params_str, ref_dataset)\n",
      "  File \"C:\\Users\\USER\\anaconda3\\lib\\site-packages\\lightgbm\\basic.py\", line 1659, in __init_from_np2d\n",
      "    _safe_call(_LIB.LGBM_DatasetCreateFromMat(\n",
      "  File \"C:\\Users\\USER\\anaconda3\\lib\\site-packages\\lightgbm\\basic.py\", line 125, in _safe_call\n",
      "    raise LightGBMError(_LIB.LGBM_GetLastError().decode('utf-8'))\n",
      "lightgbm.basic.LightGBMError: Check failed: (learning_rate) > (0.0) at D:\\a\\1\\s\\python-package\\compile\\src\\io\\config_auto.cpp, line 331 .\n",
      "\n",
      "\n",
      "  warnings.warn(\"Estimator fit failed. The score on this train-test\"\n",
      "C:\\Users\\USER\\anaconda3\\lib\\site-packages\\sklearn\\model_selection\\_validation.py:548: FitFailedWarning: Estimator fit failed. The score on this train-test partition for these parameters will be set to nan. Details: \n",
      "Traceback (most recent call last):\n",
      "  File \"C:\\Users\\USER\\anaconda3\\lib\\site-packages\\sklearn\\model_selection\\_validation.py\", line 531, in _fit_and_score\n",
      "    estimator.fit(X_train, y_train, **fit_params)\n",
      "  File \"C:\\Users\\USER\\anaconda3\\lib\\site-packages\\lightgbm\\sklearn.py\", line 895, in fit\n",
      "    super().fit(X, y, sample_weight=sample_weight, init_score=init_score,\n",
      "  File \"C:\\Users\\USER\\anaconda3\\lib\\site-packages\\lightgbm\\sklearn.py\", line 748, in fit\n",
      "    self._Booster = train(\n",
      "  File \"C:\\Users\\USER\\anaconda3\\lib\\site-packages\\lightgbm\\engine.py\", line 271, in train\n",
      "    booster = Booster(params=params, train_set=train_set)\n",
      "  File \"C:\\Users\\USER\\anaconda3\\lib\\site-packages\\lightgbm\\basic.py\", line 2605, in __init__\n",
      "    train_set.construct()\n",
      "  File \"C:\\Users\\USER\\anaconda3\\lib\\site-packages\\lightgbm\\basic.py\", line 1815, in construct\n",
      "    self._lazy_init(self.data, label=self.label,\n",
      "  File \"C:\\Users\\USER\\anaconda3\\lib\\site-packages\\lightgbm\\basic.py\", line 1538, in _lazy_init\n",
      "    self.__init_from_np2d(data, params_str, ref_dataset)\n",
      "  File \"C:\\Users\\USER\\anaconda3\\lib\\site-packages\\lightgbm\\basic.py\", line 1659, in __init_from_np2d\n",
      "    _safe_call(_LIB.LGBM_DatasetCreateFromMat(\n",
      "  File \"C:\\Users\\USER\\anaconda3\\lib\\site-packages\\lightgbm\\basic.py\", line 125, in _safe_call\n",
      "    raise LightGBMError(_LIB.LGBM_GetLastError().decode('utf-8'))\n",
      "lightgbm.basic.LightGBMError: Check failed: (learning_rate) > (0.0) at D:\\a\\1\\s\\python-package\\compile\\src\\io\\config_auto.cpp, line 331 .\n",
      "\n",
      "\n",
      "  warnings.warn(\"Estimator fit failed. The score on this train-test\"\n"
     ]
    },
    {
     "name": "stdout",
     "output_type": "stream",
     "text": [
      "[LightGBM] [Warning] min_data_in_leaf is set=10, min_child_samples=20 will be ignored. Current value: min_data_in_leaf=10\n",
      "[LightGBM] [Warning] min_sum_hessian_in_leaf is set=1, min_child_weight=0.001 will be ignored. Current value: min_sum_hessian_in_leaf=1\n",
      "[LightGBM] [Warning] min_data_in_leaf is set=10, min_child_samples=20 will be ignored. Current value: min_data_in_leaf=10\n",
      "[LightGBM] [Warning] min_sum_hessian_in_leaf is set=1, min_child_weight=0.001 will be ignored. Current value: min_sum_hessian_in_leaf=1\n"
     ]
    },
    {
     "name": "stderr",
     "output_type": "stream",
     "text": [
      "C:\\Users\\USER\\anaconda3\\lib\\site-packages\\sklearn\\model_selection\\_validation.py:548: FitFailedWarning: Estimator fit failed. The score on this train-test partition for these parameters will be set to nan. Details: \n",
      "Traceback (most recent call last):\n",
      "  File \"C:\\Users\\USER\\anaconda3\\lib\\site-packages\\sklearn\\model_selection\\_validation.py\", line 531, in _fit_and_score\n",
      "    estimator.fit(X_train, y_train, **fit_params)\n",
      "  File \"C:\\Users\\USER\\anaconda3\\lib\\site-packages\\lightgbm\\sklearn.py\", line 895, in fit\n",
      "    super().fit(X, y, sample_weight=sample_weight, init_score=init_score,\n",
      "  File \"C:\\Users\\USER\\anaconda3\\lib\\site-packages\\lightgbm\\sklearn.py\", line 748, in fit\n",
      "    self._Booster = train(\n",
      "  File \"C:\\Users\\USER\\anaconda3\\lib\\site-packages\\lightgbm\\engine.py\", line 271, in train\n",
      "    booster = Booster(params=params, train_set=train_set)\n",
      "  File \"C:\\Users\\USER\\anaconda3\\lib\\site-packages\\lightgbm\\basic.py\", line 2605, in __init__\n",
      "    train_set.construct()\n",
      "  File \"C:\\Users\\USER\\anaconda3\\lib\\site-packages\\lightgbm\\basic.py\", line 1815, in construct\n",
      "    self._lazy_init(self.data, label=self.label,\n",
      "  File \"C:\\Users\\USER\\anaconda3\\lib\\site-packages\\lightgbm\\basic.py\", line 1538, in _lazy_init\n",
      "    self.__init_from_np2d(data, params_str, ref_dataset)\n",
      "  File \"C:\\Users\\USER\\anaconda3\\lib\\site-packages\\lightgbm\\basic.py\", line 1659, in __init_from_np2d\n",
      "    _safe_call(_LIB.LGBM_DatasetCreateFromMat(\n",
      "  File \"C:\\Users\\USER\\anaconda3\\lib\\site-packages\\lightgbm\\basic.py\", line 125, in _safe_call\n",
      "    raise LightGBMError(_LIB.LGBM_GetLastError().decode('utf-8'))\n",
      "lightgbm.basic.LightGBMError: Check failed: (learning_rate) > (0.0) at D:\\a\\1\\s\\python-package\\compile\\src\\io\\config_auto.cpp, line 331 .\n",
      "\n",
      "\n",
      "  warnings.warn(\"Estimator fit failed. The score on this train-test\"\n"
     ]
    },
    {
     "name": "stdout",
     "output_type": "stream",
     "text": [
      "[LightGBM] [Warning] min_data_in_leaf is set=20, min_child_samples=20 will be ignored. Current value: min_data_in_leaf=20\n",
      "[LightGBM] [Warning] min_sum_hessian_in_leaf is set=50, min_child_weight=0.001 will be ignored. Current value: min_sum_hessian_in_leaf=50\n",
      "[LightGBM] [Warning] min_data_in_leaf is set=20, min_child_samples=20 will be ignored. Current value: min_data_in_leaf=20\n",
      "[LightGBM] [Warning] min_sum_hessian_in_leaf is set=50, min_child_weight=0.001 will be ignored. Current value: min_sum_hessian_in_leaf=50\n",
      "[LightGBM] [Warning] min_data_in_leaf is set=20, min_child_samples=20 will be ignored. Current value: min_data_in_leaf=20\n",
      "[LightGBM] [Warning] min_sum_hessian_in_leaf is set=50, min_child_weight=0.001 will be ignored. Current value: min_sum_hessian_in_leaf=50\n",
      "[LightGBM] [Warning] min_data_in_leaf is set=20, min_child_samples=20 will be ignored. Current value: min_data_in_leaf=20\n",
      "[LightGBM] [Warning] min_sum_hessian_in_leaf is set=50, min_child_weight=0.001 will be ignored. Current value: min_sum_hessian_in_leaf=50\n",
      "[LightGBM] [Warning] min_data_in_leaf is set=20, min_child_samples=20 will be ignored. Current value: min_data_in_leaf=20\n",
      "[LightGBM] [Warning] min_sum_hessian_in_leaf is set=50, min_child_weight=0.001 will be ignored. Current value: min_sum_hessian_in_leaf=50\n",
      "[LightGBM] [Warning] min_data_in_leaf is set=5, min_child_samples=20 will be ignored. Current value: min_data_in_leaf=5\n",
      "[LightGBM] [Warning] min_sum_hessian_in_leaf is set=50, min_child_weight=0.001 will be ignored. Current value: min_sum_hessian_in_leaf=50\n",
      "[LightGBM] [Warning] min_data_in_leaf is set=5, min_child_samples=20 will be ignored. Current value: min_data_in_leaf=5\n",
      "[LightGBM] [Warning] min_sum_hessian_in_leaf is set=50, min_child_weight=0.001 will be ignored. Current value: min_sum_hessian_in_leaf=50\n",
      "[LightGBM] [Warning] min_data_in_leaf is set=5, min_child_samples=20 will be ignored. Current value: min_data_in_leaf=5\n",
      "[LightGBM] [Warning] min_sum_hessian_in_leaf is set=50, min_child_weight=0.001 will be ignored. Current value: min_sum_hessian_in_leaf=50\n",
      "[LightGBM] [Warning] min_data_in_leaf is set=5, min_child_samples=20 will be ignored. Current value: min_data_in_leaf=5\n",
      "[LightGBM] [Warning] min_sum_hessian_in_leaf is set=50, min_child_weight=0.001 will be ignored. Current value: min_sum_hessian_in_leaf=50\n",
      "[LightGBM] [Warning] min_data_in_leaf is set=5, min_child_samples=20 will be ignored. Current value: min_data_in_leaf=5\n",
      "[LightGBM] [Warning] min_sum_hessian_in_leaf is set=50, min_child_weight=0.001 will be ignored. Current value: min_sum_hessian_in_leaf=50\n",
      "[LightGBM] [Warning] min_data_in_leaf is set=20, min_child_samples=20 will be ignored. Current value: min_data_in_leaf=20\n",
      "[LightGBM] [Warning] min_sum_hessian_in_leaf is set=100, min_child_weight=0.001 will be ignored. Current value: min_sum_hessian_in_leaf=100\n",
      "[LightGBM] [Warning] min_data_in_leaf is set=20, min_child_samples=20 will be ignored. Current value: min_data_in_leaf=20\n",
      "[LightGBM] [Warning] min_sum_hessian_in_leaf is set=100, min_child_weight=0.001 will be ignored. Current value: min_sum_hessian_in_leaf=100\n",
      "[LightGBM] [Warning] min_data_in_leaf is set=20, min_child_samples=20 will be ignored. Current value: min_data_in_leaf=20\n",
      "[LightGBM] [Warning] min_sum_hessian_in_leaf is set=100, min_child_weight=0.001 will be ignored. Current value: min_sum_hessian_in_leaf=100\n",
      "[LightGBM] [Warning] min_data_in_leaf is set=20, min_child_samples=20 will be ignored. Current value: min_data_in_leaf=20\n",
      "[LightGBM] [Warning] min_sum_hessian_in_leaf is set=100, min_child_weight=0.001 will be ignored. Current value: min_sum_hessian_in_leaf=100\n",
      "[LightGBM] [Warning] min_data_in_leaf is set=20, min_child_samples=20 will be ignored. Current value: min_data_in_leaf=20\n",
      "[LightGBM] [Warning] min_sum_hessian_in_leaf is set=100, min_child_weight=0.001 will be ignored. Current value: min_sum_hessian_in_leaf=100\n",
      "[LightGBM] [Warning] min_data_in_leaf is set=15, min_child_samples=20 will be ignored. Current value: min_data_in_leaf=15\n",
      "[LightGBM] [Warning] min_sum_hessian_in_leaf is set=50, min_child_weight=0.001 will be ignored. Current value: min_sum_hessian_in_leaf=50\n",
      "[LightGBM] [Warning] min_data_in_leaf is set=15, min_child_samples=20 will be ignored. Current value: min_data_in_leaf=15\n",
      "[LightGBM] [Warning] min_sum_hessian_in_leaf is set=50, min_child_weight=0.001 will be ignored. Current value: min_sum_hessian_in_leaf=50\n"
     ]
    },
    {
     "name": "stderr",
     "output_type": "stream",
     "text": [
      "C:\\Users\\USER\\anaconda3\\lib\\site-packages\\sklearn\\model_selection\\_validation.py:548: FitFailedWarning: Estimator fit failed. The score on this train-test partition for these parameters will be set to nan. Details: \n",
      "Traceback (most recent call last):\n",
      "  File \"C:\\Users\\USER\\anaconda3\\lib\\site-packages\\sklearn\\model_selection\\_validation.py\", line 531, in _fit_and_score\n",
      "    estimator.fit(X_train, y_train, **fit_params)\n",
      "  File \"C:\\Users\\USER\\anaconda3\\lib\\site-packages\\lightgbm\\sklearn.py\", line 895, in fit\n",
      "    super().fit(X, y, sample_weight=sample_weight, init_score=init_score,\n",
      "  File \"C:\\Users\\USER\\anaconda3\\lib\\site-packages\\lightgbm\\sklearn.py\", line 748, in fit\n",
      "    self._Booster = train(\n",
      "  File \"C:\\Users\\USER\\anaconda3\\lib\\site-packages\\lightgbm\\engine.py\", line 271, in train\n",
      "    booster = Booster(params=params, train_set=train_set)\n",
      "  File \"C:\\Users\\USER\\anaconda3\\lib\\site-packages\\lightgbm\\basic.py\", line 2605, in __init__\n",
      "    train_set.construct()\n",
      "  File \"C:\\Users\\USER\\anaconda3\\lib\\site-packages\\lightgbm\\basic.py\", line 1815, in construct\n",
      "    self._lazy_init(self.data, label=self.label,\n",
      "  File \"C:\\Users\\USER\\anaconda3\\lib\\site-packages\\lightgbm\\basic.py\", line 1538, in _lazy_init\n",
      "    self.__init_from_np2d(data, params_str, ref_dataset)\n",
      "  File \"C:\\Users\\USER\\anaconda3\\lib\\site-packages\\lightgbm\\basic.py\", line 1659, in __init_from_np2d\n",
      "    _safe_call(_LIB.LGBM_DatasetCreateFromMat(\n",
      "  File \"C:\\Users\\USER\\anaconda3\\lib\\site-packages\\lightgbm\\basic.py\", line 125, in _safe_call\n",
      "    raise LightGBMError(_LIB.LGBM_GetLastError().decode('utf-8'))\n",
      "lightgbm.basic.LightGBMError: Check failed: (learning_rate) > (0.0) at D:\\a\\1\\s\\python-package\\compile\\src\\io\\config_auto.cpp, line 331 .\n",
      "\n",
      "\n",
      "  warnings.warn(\"Estimator fit failed. The score on this train-test\"\n",
      "C:\\Users\\USER\\anaconda3\\lib\\site-packages\\sklearn\\model_selection\\_validation.py:548: FitFailedWarning: Estimator fit failed. The score on this train-test partition for these parameters will be set to nan. Details: \n",
      "Traceback (most recent call last):\n",
      "  File \"C:\\Users\\USER\\anaconda3\\lib\\site-packages\\sklearn\\model_selection\\_validation.py\", line 531, in _fit_and_score\n",
      "    estimator.fit(X_train, y_train, **fit_params)\n",
      "  File \"C:\\Users\\USER\\anaconda3\\lib\\site-packages\\lightgbm\\sklearn.py\", line 895, in fit\n",
      "    super().fit(X, y, sample_weight=sample_weight, init_score=init_score,\n",
      "  File \"C:\\Users\\USER\\anaconda3\\lib\\site-packages\\lightgbm\\sklearn.py\", line 748, in fit\n",
      "    self._Booster = train(\n",
      "  File \"C:\\Users\\USER\\anaconda3\\lib\\site-packages\\lightgbm\\engine.py\", line 271, in train\n",
      "    booster = Booster(params=params, train_set=train_set)\n",
      "  File \"C:\\Users\\USER\\anaconda3\\lib\\site-packages\\lightgbm\\basic.py\", line 2605, in __init__\n",
      "    train_set.construct()\n",
      "  File \"C:\\Users\\USER\\anaconda3\\lib\\site-packages\\lightgbm\\basic.py\", line 1815, in construct\n",
      "    self._lazy_init(self.data, label=self.label,\n",
      "  File \"C:\\Users\\USER\\anaconda3\\lib\\site-packages\\lightgbm\\basic.py\", line 1538, in _lazy_init\n",
      "    self.__init_from_np2d(data, params_str, ref_dataset)\n",
      "  File \"C:\\Users\\USER\\anaconda3\\lib\\site-packages\\lightgbm\\basic.py\", line 1659, in __init_from_np2d\n",
      "    _safe_call(_LIB.LGBM_DatasetCreateFromMat(\n",
      "  File \"C:\\Users\\USER\\anaconda3\\lib\\site-packages\\lightgbm\\basic.py\", line 125, in _safe_call\n",
      "    raise LightGBMError(_LIB.LGBM_GetLastError().decode('utf-8'))\n",
      "lightgbm.basic.LightGBMError: Check failed: (learning_rate) > (0.0) at D:\\a\\1\\s\\python-package\\compile\\src\\io\\config_auto.cpp, line 331 .\n",
      "\n",
      "\n",
      "  warnings.warn(\"Estimator fit failed. The score on this train-test\"\n"
     ]
    },
    {
     "name": "stdout",
     "output_type": "stream",
     "text": [
      "[LightGBM] [Warning] min_data_in_leaf is set=15, min_child_samples=20 will be ignored. Current value: min_data_in_leaf=15\n",
      "[LightGBM] [Warning] min_sum_hessian_in_leaf is set=50, min_child_weight=0.001 will be ignored. Current value: min_sum_hessian_in_leaf=50\n",
      "[LightGBM] [Warning] min_data_in_leaf is set=15, min_child_samples=20 will be ignored. Current value: min_data_in_leaf=15\n",
      "[LightGBM] [Warning] min_sum_hessian_in_leaf is set=50, min_child_weight=0.001 will be ignored. Current value: min_sum_hessian_in_leaf=50\n"
     ]
    },
    {
     "name": "stderr",
     "output_type": "stream",
     "text": [
      "C:\\Users\\USER\\anaconda3\\lib\\site-packages\\sklearn\\model_selection\\_validation.py:548: FitFailedWarning: Estimator fit failed. The score on this train-test partition for these parameters will be set to nan. Details: \n",
      "Traceback (most recent call last):\n",
      "  File \"C:\\Users\\USER\\anaconda3\\lib\\site-packages\\sklearn\\model_selection\\_validation.py\", line 531, in _fit_and_score\n",
      "    estimator.fit(X_train, y_train, **fit_params)\n",
      "  File \"C:\\Users\\USER\\anaconda3\\lib\\site-packages\\lightgbm\\sklearn.py\", line 895, in fit\n",
      "    super().fit(X, y, sample_weight=sample_weight, init_score=init_score,\n",
      "  File \"C:\\Users\\USER\\anaconda3\\lib\\site-packages\\lightgbm\\sklearn.py\", line 748, in fit\n",
      "    self._Booster = train(\n",
      "  File \"C:\\Users\\USER\\anaconda3\\lib\\site-packages\\lightgbm\\engine.py\", line 271, in train\n",
      "    booster = Booster(params=params, train_set=train_set)\n",
      "  File \"C:\\Users\\USER\\anaconda3\\lib\\site-packages\\lightgbm\\basic.py\", line 2605, in __init__\n",
      "    train_set.construct()\n",
      "  File \"C:\\Users\\USER\\anaconda3\\lib\\site-packages\\lightgbm\\basic.py\", line 1815, in construct\n",
      "    self._lazy_init(self.data, label=self.label,\n",
      "  File \"C:\\Users\\USER\\anaconda3\\lib\\site-packages\\lightgbm\\basic.py\", line 1538, in _lazy_init\n",
      "    self.__init_from_np2d(data, params_str, ref_dataset)\n",
      "  File \"C:\\Users\\USER\\anaconda3\\lib\\site-packages\\lightgbm\\basic.py\", line 1659, in __init_from_np2d\n",
      "    _safe_call(_LIB.LGBM_DatasetCreateFromMat(\n",
      "  File \"C:\\Users\\USER\\anaconda3\\lib\\site-packages\\lightgbm\\basic.py\", line 125, in _safe_call\n",
      "    raise LightGBMError(_LIB.LGBM_GetLastError().decode('utf-8'))\n",
      "lightgbm.basic.LightGBMError: Check failed: (learning_rate) > (0.0) at D:\\a\\1\\s\\python-package\\compile\\src\\io\\config_auto.cpp, line 331 .\n",
      "\n",
      "\n",
      "  warnings.warn(\"Estimator fit failed. The score on this train-test\"\n",
      "C:\\Users\\USER\\anaconda3\\lib\\site-packages\\sklearn\\model_selection\\_validation.py:548: FitFailedWarning: Estimator fit failed. The score on this train-test partition for these parameters will be set to nan. Details: \n",
      "Traceback (most recent call last):\n",
      "  File \"C:\\Users\\USER\\anaconda3\\lib\\site-packages\\sklearn\\model_selection\\_validation.py\", line 531, in _fit_and_score\n",
      "    estimator.fit(X_train, y_train, **fit_params)\n",
      "  File \"C:\\Users\\USER\\anaconda3\\lib\\site-packages\\lightgbm\\sklearn.py\", line 895, in fit\n",
      "    super().fit(X, y, sample_weight=sample_weight, init_score=init_score,\n",
      "  File \"C:\\Users\\USER\\anaconda3\\lib\\site-packages\\lightgbm\\sklearn.py\", line 748, in fit\n",
      "    self._Booster = train(\n",
      "  File \"C:\\Users\\USER\\anaconda3\\lib\\site-packages\\lightgbm\\engine.py\", line 271, in train\n",
      "    booster = Booster(params=params, train_set=train_set)\n",
      "  File \"C:\\Users\\USER\\anaconda3\\lib\\site-packages\\lightgbm\\basic.py\", line 2605, in __init__\n",
      "    train_set.construct()\n",
      "  File \"C:\\Users\\USER\\anaconda3\\lib\\site-packages\\lightgbm\\basic.py\", line 1815, in construct\n",
      "    self._lazy_init(self.data, label=self.label,\n",
      "  File \"C:\\Users\\USER\\anaconda3\\lib\\site-packages\\lightgbm\\basic.py\", line 1538, in _lazy_init\n",
      "    self.__init_from_np2d(data, params_str, ref_dataset)\n",
      "  File \"C:\\Users\\USER\\anaconda3\\lib\\site-packages\\lightgbm\\basic.py\", line 1659, in __init_from_np2d\n",
      "    _safe_call(_LIB.LGBM_DatasetCreateFromMat(\n",
      "  File \"C:\\Users\\USER\\anaconda3\\lib\\site-packages\\lightgbm\\basic.py\", line 125, in _safe_call\n",
      "    raise LightGBMError(_LIB.LGBM_GetLastError().decode('utf-8'))\n",
      "lightgbm.basic.LightGBMError: Check failed: (learning_rate) > (0.0) at D:\\a\\1\\s\\python-package\\compile\\src\\io\\config_auto.cpp, line 331 .\n",
      "\n",
      "\n",
      "  warnings.warn(\"Estimator fit failed. The score on this train-test\"\n"
     ]
    },
    {
     "name": "stdout",
     "output_type": "stream",
     "text": [
      "[LightGBM] [Warning] min_data_in_leaf is set=15, min_child_samples=20 will be ignored. Current value: min_data_in_leaf=15\n",
      "[LightGBM] [Warning] min_sum_hessian_in_leaf is set=50, min_child_weight=0.001 will be ignored. Current value: min_sum_hessian_in_leaf=50\n",
      "[LightGBM] [Warning] min_data_in_leaf is set=15, min_child_samples=20 will be ignored. Current value: min_data_in_leaf=15"
     ]
    },
    {
     "name": "stderr",
     "output_type": "stream",
     "text": [
      "C:\\Users\\USER\\anaconda3\\lib\\site-packages\\sklearn\\model_selection\\_validation.py:548: FitFailedWarning: Estimator fit failed. The score on this train-test partition for these parameters will be set to nan. Details: \n",
      "Traceback (most recent call last):\n",
      "  File \"C:\\Users\\USER\\anaconda3\\lib\\site-packages\\sklearn\\model_selection\\_validation.py\", line 531, in _fit_and_score\n",
      "    estimator.fit(X_train, y_train, **fit_params)\n",
      "  File \"C:\\Users\\USER\\anaconda3\\lib\\site-packages\\lightgbm\\sklearn.py\", line 895, in fit\n",
      "    super().fit(X, y, sample_weight=sample_weight, init_score=init_score,\n",
      "  File \"C:\\Users\\USER\\anaconda3\\lib\\site-packages\\lightgbm\\sklearn.py\", line 748, in fit\n",
      "    self._Booster = train(\n",
      "  File \"C:\\Users\\USER\\anaconda3\\lib\\site-packages\\lightgbm\\engine.py\", line 271, in train\n",
      "    booster = Booster(params=params, train_set=train_set)\n",
      "  File \"C:\\Users\\USER\\anaconda3\\lib\\site-packages\\lightgbm\\basic.py\", line 2605, in __init__\n",
      "    train_set.construct()\n",
      "  File \"C:\\Users\\USER\\anaconda3\\lib\\site-packages\\lightgbm\\basic.py\", line 1815, in construct\n",
      "    self._lazy_init(self.data, label=self.label,\n",
      "  File \"C:\\Users\\USER\\anaconda3\\lib\\site-packages\\lightgbm\\basic.py\", line 1538, in _lazy_init\n",
      "    self.__init_from_np2d(data, params_str, ref_dataset)\n",
      "  File \"C:\\Users\\USER\\anaconda3\\lib\\site-packages\\lightgbm\\basic.py\", line 1659, in __init_from_np2d\n",
      "    _safe_call(_LIB.LGBM_DatasetCreateFromMat(\n",
      "  File \"C:\\Users\\USER\\anaconda3\\lib\\site-packages\\lightgbm\\basic.py\", line 125, in _safe_call\n",
      "    raise LightGBMError(_LIB.LGBM_GetLastError().decode('utf-8'))\n",
      "lightgbm.basic.LightGBMError: Check failed: (learning_rate) > (0.0) at D:\\a\\1\\s\\python-package\\compile\\src\\io\\config_auto.cpp, line 331 .\n",
      "\n",
      "\n",
      "  warnings.warn(\"Estimator fit failed. The score on this train-test\"\n"
     ]
    },
    {
     "name": "stdout",
     "output_type": "stream",
     "text": [
      "\n",
      "[LightGBM] [Warning] min_sum_hessian_in_leaf is set=100, min_child_weight=0.001 will be ignored. Current value: min_sum_hessian_in_leaf=100\n",
      "[LightGBM] [Warning] min_data_in_leaf is set=15, min_child_samples=20 will be ignored. Current value: min_data_in_leaf=15\n",
      "[LightGBM] [Warning] min_sum_hessian_in_leaf is set=100, min_child_weight=0.001 will be ignored. Current value: min_sum_hessian_in_leaf=100\n",
      "[LightGBM] [Warning] min_data_in_leaf is set=15, min_child_samples=20 will be ignored. Current value: min_data_in_leaf=15\n",
      "[LightGBM] [Warning] min_sum_hessian_in_leaf is set=100, min_child_weight=0.001 will be ignored. Current value: min_sum_hessian_in_leaf=100\n",
      "[LightGBM] [Warning] min_data_in_leaf is set=15, min_child_samples=20 will be ignored. Current value: min_data_in_leaf=15\n",
      "[LightGBM] [Warning] min_sum_hessian_in_leaf is set=100, min_child_weight=0.001 will be ignored. Current value: min_sum_hessian_in_leaf=100\n",
      "[LightGBM] [Warning] min_data_in_leaf is set=15, min_child_samples=20 will be ignored. Current value: min_data_in_leaf=15\n",
      "[LightGBM] [Warning] min_sum_hessian_in_leaf is set=100, min_child_weight=0.001 will be ignored. Current value: min_sum_hessian_in_leaf=100\n",
      "[LightGBM] [Warning] min_data_in_leaf is set=15, min_child_samples=20 will be ignored. Current value: min_data_in_leaf=15\n",
      "[LightGBM] [Warning] min_sum_hessian_in_leaf is set=10, min_child_weight=0.001 will be ignored. Current value: min_sum_hessian_in_leaf=10\n",
      "[LightGBM] [Warning] min_data_in_leaf is set=15, min_child_samples=20 will be ignored. Current value: min_data_in_leaf=15\n",
      "[LightGBM] [Warning] min_sum_hessian_in_leaf is set=10, min_child_weight=0.001 will be ignored. Current value: min_sum_hessian_in_leaf=10\n",
      "[LightGBM] [Warning] min_data_in_leaf is set=15, min_child_samples=20 will be ignored. Current value: min_data_in_leaf=15\n",
      "[LightGBM] [Warning] min_sum_hessian_in_leaf is set=10, min_child_weight=0.001 will be ignored. Current value: min_sum_hessian_in_leaf=10\n",
      "[LightGBM] [Warning] min_data_in_leaf is set=15, min_child_samples=20 will be ignored. Current value: min_data_in_leaf=15\n",
      "[LightGBM] [Warning] min_sum_hessian_in_leaf is set=10, min_child_weight=0.001 will be ignored. Current value: min_sum_hessian_in_leaf=10\n",
      "[LightGBM] [Warning] min_data_in_leaf is set=15, min_child_samples=20 will be ignored. Current value: min_data_in_leaf=15\n",
      "[LightGBM] [Warning] min_sum_hessian_in_leaf is set=10, min_child_weight=0.001 will be ignored. Current value: min_sum_hessian_in_leaf=10\n",
      "[LightGBM] [Warning] min_data_in_leaf is set=15, min_child_samples=20 will be ignored. Current value: min_data_in_leaf=15\n",
      "[LightGBM] [Warning] min_sum_hessian_in_leaf is set=1, min_child_weight=0.001 will be ignored. Current value: min_sum_hessian_in_leaf=1\n",
      "[LightGBM] [Warning] min_data_in_leaf is set=15, min_child_samples=20 will be ignored. Current value: min_data_in_leaf=15\n",
      "[LightGBM] [Warning] min_sum_hessian_in_leaf is set=1, min_child_weight=0.001 will be ignored. Current value: min_sum_hessian_in_leaf=1\n",
      "[LightGBM] [Warning] min_data_in_leaf is set=15, min_child_samples=20 will be ignored. Current value: min_data_in_leaf=15\n",
      "[LightGBM] [Warning] min_sum_hessian_in_leaf is set=1, min_child_weight=0.001 will be ignored. Current value: min_sum_hessian_in_leaf=1\n",
      "[LightGBM] [Warning] min_data_in_leaf is set=15, min_child_samples=20 will be ignored. Current value: min_data_in_leaf=15\n",
      "[LightGBM] [Warning] min_sum_hessian_in_leaf is set=1, min_child_weight=0.001 will be ignored. Current value: min_sum_hessian_in_leaf=1\n",
      "[LightGBM] [Warning] min_data_in_leaf is set=15, min_child_samples=20 will be ignored. Current value: min_data_in_leaf=15\n",
      "[LightGBM] [Warning] min_sum_hessian_in_leaf is set=1, min_child_weight=0.001 will be ignored. Current value: min_sum_hessian_in_leaf=1\n",
      "[LightGBM] [Warning] min_data_in_leaf is set=10, min_child_samples=20 will be ignored. Current value: min_data_in_leaf=10\n",
      "[LightGBM] [Warning] min_sum_hessian_in_leaf is set=100, min_child_weight=0.001 will be ignored. Current value: min_sum_hessian_in_leaf=100\n",
      "Train Score\n",
      "MAE: 1470.78\n",
      "RMSE: 2138.15\n",
      "R2 score: 0.92\n",
      "==================================================\n",
      "Test Score\n",
      "MAE: 1646.77\n",
      "RMSE: 2430.03\n",
      "R2 score: 0.89\n"
     ]
    }
   ],
   "source": [
    "from sklearn.model_selection import RandomizedSearchCV\n",
    "from scipy.stats import uniform\n",
    "import numpy as np\n",
    "\n",
    "# List of hyperparameter\n",
    "learning_rate = [0.9, 0,5]\n",
    "min_data_in_leaf = [10, 5, 15, 20]\n",
    "min_sum_hessian_in_leaf = [1, 10, 50, 100]\n",
    "n_estimators = [10, 100, 200, 300, 500, 1000]\n",
    "max_depth = [15, 10]\n",
    "num_leaves = [10, 20]\n",
    "\n",
    "hyperparameters = dict(max_depth=max_depth,\n",
    "                       num_leaves=num_leaves,\n",
    "                       n_estimators = n_estimators,\n",
    "                        learning_rate=learning_rate,\n",
    "                        min_data_in_leaf=min_data_in_leaf,\n",
    "                        min_sum_hessian_in_leaf=min_sum_hessian_in_leaf\n",
    "                      )\n",
    "\n",
    "# Inisialisasi Model\n",
    "lgbm = LGBMRegressor(n_estimators=198)\n",
    "lgbm_tuned = RandomizedSearchCV(lgbm, hyperparameters, n_iter=15, cv=5, random_state=100, scoring='r2')\n",
    "lgbm_tuned.fit(X_train, y_train)\n",
    "\n",
    "# Eval Train\n",
    "y_pred_train = lgbm_tuned.predict(X_train)\n",
    "print('Train Score')\n",
    "print(\"MAE: %.2f\" % mean_absolute_error(y_pred_train, y_train)) # The MAE\n",
    "print(\"RMSE: %.2f\" % mean_squared_error(y_pred_train, y_train, squared=False)) # The RMSE\n",
    "print('R2 score: %.2f' % r2_score(y_pred_train, y_train)) # Explained variance score: 1 is perfect prediction\n",
    "print('='*50)\n",
    "\n",
    "# Eval Test\n",
    "y_pred_test = lgbm_tuned.predict(X_test)\n",
    "print('Test Score')\n",
    "print(\"MAE: %.2f\" % mean_absolute_error(y_pred_test, y_test)) # The MAE\n",
    "print(\"RMSE: %.2f\" % mean_squared_error(y_pred_test, y_test, squared=False)) # The RMSE\n",
    "print('R2 score: %.2f' % r2_score(y_pred_test, y_test)) # Explained variance score: 1 is perfect prediction"
   ]
  },
  {
   "cell_type": "code",
   "execution_count": 73,
   "metadata": {
    "ExecuteTime": {
     "end_time": "2022-06-02T11:19:36.952568Z",
     "start_time": "2022-06-02T11:19:36.669328Z"
    }
   },
   "outputs": [
    {
     "data": {
      "image/png": "[encoded data removed]",
      "text/plain": [
       "<Figure size 720x576 with 1 Axes>"
      ]
     },
     "metadata": {
      "needs_background": "light"
     },
     "output_type": "display_data"
    }
   ],
   "source": [
    "show_feature_importance(lgbm_tuned.best_estimator_)"
   ]
  },
  {
   "cell_type": "code",
   "execution_count": 80,
   "metadata": {
    "ExecuteTime": {
     "end_time": "2022-06-02T11:49:08.069960Z",
     "start_time": "2022-06-02T11:49:08.049943Z"
    }
   },
   "outputs": [],
   "source": [
    "result = pd.DataFrame({\n",
    "    'ori': y_test,\n",
    "    'pred': y_pred_test\n",
    "})\n",
    "\n",
    "result['pred'] = round(result['pred'], 2)"
   ]
  },
  {
   "cell_type": "code",
   "execution_count": 81,
   "metadata": {
    "ExecuteTime": {
     "end_time": "2022-06-02T11:49:08.702359Z",
     "start_time": "2022-06-02T11:49:08.682323Z"
    }
   },
   "outputs": [],
   "source": [
    "# absolute percentage error\n",
    "result['APE'] = round(abs(result['pred']-result['ori'])/result['ori']*100, 2)"
   ]
  },
  {
   "cell_type": "code",
   "execution_count": 82,
   "metadata": {
    "ExecuteTime": {
     "end_time": "2022-06-02T11:49:09.250321Z",
     "start_time": "2022-06-02T11:49:09.242357Z"
    }
   },
   "outputs": [
    {
     "data": {
      "text/plain": [
       "19.10023716821028"
      ]
     },
     "execution_count": 82,
     "metadata": {},
     "output_type": "execute_result"
    }
   ],
   "source": [
    "# mean absolute percentage error\n",
    "MAPE = result.APE.sum()/len(result)\n",
    "MAPE"
   ]
  },
  {
   "cell_type": "code",
   "execution_count": 83,
   "metadata": {
    "ExecuteTime": {
     "end_time": "2022-06-02T11:49:09.963500Z",
     "start_time": "2022-06-02T11:49:09.951527Z"
    }
   },
   "outputs": [
    {
     "data": {
      "text/plain": [
       "-3774117.8900000006"
      ]
     },
     "execution_count": 83,
     "metadata": {},
     "output_type": "execute_result"
    }
   ],
   "source": [
    "diff = result['pred']-result['ori']\n",
    "diff.sum()"
   ]
  },
  {
   "cell_type": "code",
   "execution_count": null,
   "metadata": {},
   "outputs": [],
   "source": []
  }
 ],
 "metadata": {
  "accelerator": "GPU",
  "colab": {
   "collapsed_sections": [],
   "name": "FP STAGE 2_NEW.ipynb",
   "provenance": [],
   "toc_visible": true
  },
  "kernelspec": {
   "display_name": "Python 3",
   "language": "python",
   "name": "python3"
  },
  "language_info": {
   "codemirror_mode": {
    "name": "ipython",
    "version": 3
   },
   "file_extension": ".py",
   "mimetype": "text/x-python",
   "name": "python",
   "nbconvert_exporter": "python",
   "pygments_lexer": "ipython3",
   "version": "3.8.3"
  },
  "toc": {
   "base_numbering": 1,
   "nav_menu": {},
   "number_sections": false,
   "sideBar": true,
   "skip_h1_title": false,
   "title_cell": "Table of Contents",
   "title_sidebar": "Contents",
   "toc_cell": false,
   "toc_position": {
    "height": "calc(100% - 180px)",
    "left": "10px",
    "top": "150px",
    "width": "279.263px"
   },
   "toc_section_display": true,
   "toc_window_display": true
  }
 },
 "nbformat": 4,
 "nbformat_minor": 1
}
